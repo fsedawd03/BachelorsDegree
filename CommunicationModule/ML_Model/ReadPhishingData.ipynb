{
 "cells": [
  {
   "cell_type": "code",
   "id": "initial_id",
   "metadata": {
    "ExecuteTime": {
     "end_time": "2024-06-20T04:06:29.620684Z",
     "start_time": "2024-06-20T04:06:29.138364Z"
    }
   },
   "source": [
    "import email\n",
    "import pandas as pd\n",
    "from fast_mail_parser import parse_email, ParseError\n",
    "import numpy as np\n",
    "import re\n",
    "import os\n",
    "import langdetect as ld\n",
    "from bs4 import BeautifulSoup"
   ],
   "outputs": [],
   "execution_count": 1
  },
  {
   "cell_type": "code",
   "id": "b1eb388e6dc5fedc",
   "metadata": {
    "ExecuteTime": {
     "end_time": "2024-06-20T04:06:32.734942Z",
     "start_time": "2024-06-20T04:06:32.720144Z"
    }
   },
   "source": [
    "pd.set_option('display.max_colwidth',50)"
   ],
   "outputs": [],
   "execution_count": 2
  },
  {
   "cell_type": "code",
   "id": "5daf8163a4bb52b2",
   "metadata": {
    "ExecuteTime": {
     "end_time": "2024-06-20T04:06:34.463549Z",
     "start_time": "2024-06-20T04:06:34.455216Z"
    }
   },
   "source": [
    "def strip_tags(html):\n",
    "    s = BeautifulSoup(html,'html.parser')\n",
    "    return s.get_text()\n",
    "\n",
    "def get_lang(text: str) -> str:\n",
    "    try:\n",
    "        if text.strip() == '':\n",
    "            return \"empty\"\n",
    "        else:\n",
    "            return ld.detect(text)\n",
    "    except:\n",
    "        return \"unknown\"\n",
    "    \n",
    "def remove_punct(text: str) -> str:\n",
    "    txt = re.sub('[^a-zA-Z]', ' ', text)\n",
    "    return txt"
   ],
   "outputs": [],
   "execution_count": 3
  },
  {
   "cell_type": "code",
   "id": "79f8651bd5e5091a",
   "metadata": {
    "ExecuteTime": {
     "end_time": "2024-06-20T04:06:48.295338Z",
     "start_time": "2024-06-20T04:06:35.388688Z"
    }
   },
   "source": [
    "trainPish = pd.DataFrame()\n",
    "encodingErrorFiles = list()\n",
    "bodyData = pd.DataFrame(columns=['Text','Index','Body html'])\n",
    "idx2 = 0\n",
    "\n",
    "for filename in os.listdir(\"C:\\\\Users\\\\Dan\\\\Downloads\\\\phishing_pot-main\\\\email\"):\n",
    "    with open(os.path.join(\"C:\\\\Users\\\\Dan\\\\Downloads\\\\phishing_pot-main\\\\email\",filename), \"r\",encoding=\"utf8\") as f:\n",
    "        #print(filename)\n",
    "        try:\n",
    "            message_payload = f.read()\n",
    "            try:\n",
    "                email = parse_email(message_payload)  #Is a dict\n",
    "            except ParseError as e:\n",
    "                print(\"Failed to parse the email \", e)\n",
    "            \n",
    "            listKeys = [\"From\", \"Subject\", \"To\", \"Return-Path\", \"Authentication-Results\", \"Message-Id\"]\n",
    "            \n",
    "            #In case the \"To\" header is written wrong(less than 10 files in the dataset are)\n",
    "            try:\n",
    "                email.headers[\"To\"]\n",
    "            except KeyError:\n",
    "                for k in email.headers.keys():\n",
    "                    if \"to\" in k.lower():\n",
    "                        listKeys.append(k)\n",
    "                        listKeys.remove(\"To\")\n",
    "                        break\n",
    "            \n",
    "            #Transform from list to array to match the required shape (1,5) to (1,5)\n",
    "            #Case insensitive dictionary\n",
    "            H_lower = {k.lower():v for k,v in email.headers.items()}\n",
    "            \n",
    "            #Initialize values not found in the email body to make sure no errors are present\n",
    "            for k in listKeys:\n",
    "                try:\n",
    "                    H_lower[k.lower()]\n",
    "                except KeyError:\n",
    "                    H_lower[k.lower()] = \"None\"\n",
    "                    \n",
    "            data = [H_lower[k.lower()] for k in listKeys]\n",
    "            data2 = np.array([data])\n",
    "            index = H_lower[\"message-id\"]\n",
    "            index2 = index\n",
    "            if index2 == \"None\":\n",
    "                index2 = \"I\" + str(idx2)\n",
    "                idx2 += 1\n",
    "            pData = pd.DataFrame(data=data2, columns=listKeys)\n",
    "            pData.set_index('Message-Id', inplace=True)\n",
    "                \n",
    "            emailDic = {\n",
    "                \"Index\": index2,\n",
    "                \"DKIM\": -1,  #Checks whether the email passed the dkim check\n",
    "                \"SPF\": -1,  #Checks whether the email passed the spf check\n",
    "                \"DMARC\": -1,  #Checks whether the email passed the dmarc check\n",
    "                \"ARC\": -1,  #Checks whether the email passed the arc check\n",
    "                \"Body dear word\": -1,  #Checks whether the email has the \"dear\" word inside it\n",
    "                \"Body form\": -1,  #Checks whether the email has a form html tag \n",
    "                \"Body html\": -1,  #Checks whether the email contains html\n",
    "                \"Body button\": -1,  #Checks whether the email has buttons\n",
    "                \"Number of Links\": 0,  #Counts the number of links inside the email\n",
    "                \"Body Verify your account\": -1,  #Checks whether the email contains the string \"verify your account\"\n",
    "                \"Body no of function words\": 0,  #Counts the number of function words\n",
    "                \"From eq Return\": -1  #Checks whether the from address is equal to the reply address\n",
    "            }\n",
    "            \n",
    "            functionWords = [\"Account\", \"Access\", \"Bank\", \"Credit\", \"Click\", \"Identity\", \"Inconvenience\", \"Information\", \"Limited\",\n",
    "                             \"Log\", \"Minutes\", \"Password\", \"Recently\", \"Risk\", \"Security\", \"Social\", \"Service\", \"Suspended\",\n",
    "                             \"Urgent\"]\n",
    "            \n",
    "            #Get email html/text \n",
    "            try:\n",
    "                contentType = H_lower[\"Content-type\".lower()]\n",
    "            except KeyError:\n",
    "                contentType = \"text/plain\"\n",
    "            \n",
    "            body = ''\n",
    "            if \"text/html\" in contentType:\n",
    "                body = email.text_html[0]\n",
    "                df = {\"Text\": body,'Index':index2, 'Body html': 1}\n",
    "                df = pd.Series(df)\n",
    "                bodyData = bodyData._append(df,ignore_index=True)\n",
    "                emailDic[\"Body html\"] = 1\n",
    "            elif \"text/plain\" in contentType:\n",
    "                body = email.text_plain[0]\n",
    "                df = {\"Text\": body,'Index':index2, 'Body html': 0}\n",
    "                df = pd.Series(df)\n",
    "                bodyData = bodyData._append(df,ignore_index=True)\n",
    "                emailDic[\"Body html\"] = 0\n",
    "            elif \"multipart/alternative\" or \" multipart/mixed\" in contentType:\n",
    "                try:\n",
    "                    body = email.text_plain[0]\n",
    "                    df = {\"Text\": body,'Index':index2,'Body html': 0}\n",
    "                    emailDic[\"Body html\"] = 0\n",
    "                except:\n",
    "                    try: \n",
    "                        body = email.text_html[0]\n",
    "                        df = {\"Text\": body,'Index':index2,'Body html': 1}\n",
    "                        emailDic[\"Body html\"] = 1\n",
    "                    except:\n",
    "                        emailDic[\"Body html\"] = 0\n",
    "                        df = {\"Text\": body,'Index':index2,'Body html': 0}\n",
    "                        pass\n",
    "                df = pd.Series(df)\n",
    "                bodyData = bodyData._append(df,ignore_index=True)\n",
    "            else:\n",
    "                emailDic[\"Body html\"] = 0\n",
    "                df = {\"Text\": body,'Index':index,'Body html': 0}\n",
    "                df = pd.Series(df)\n",
    "                bodyData = bodyData._append(df,ignore_index=True)\n",
    "            #print(body)\n",
    "            \n",
    "            #Verify Dkim, spf, arc and dmarc passes\n",
    "            if \"dkim=pass\" in pData.loc[index][\"Authentication-Results\"]:\n",
    "                emailDic[\"DKIM\"] = 1\n",
    "            else:\n",
    "                emailDic[\"DKIM\"] = 0\n",
    "            if \"spf=pass\" in pData.loc[index][\"Authentication-Results\"]:\n",
    "                emailDic[\"SPF\"] = 1\n",
    "            else:\n",
    "                emailDic[\"SPF\"] = 0\n",
    "            if \"dmarc=pass\" in pData.loc[index][\"Authentication-Results\"]:\n",
    "                emailDic[\"DMARC\"] = 1\n",
    "            else:\n",
    "                emailDic[\"DMARC\"] = 0\n",
    "            if \"arc=pass\" in pData.loc[index][\"Authentication-Results\"]:\n",
    "                emailDic[\"ARC\"] = 1\n",
    "            else:\n",
    "                emailDic[\"ARC\"] = 0\n",
    "            \n",
    "            \n",
    "            def containsWrapper(searchValue: str, text: str) -> int:\n",
    "                return 1 if searchValue in text else 0\n",
    "            \n",
    "            \n",
    "            dear, form, button, verifyAcc = containsWrapper(\"dear\", body.lower()), containsWrapper(\"<form\", body), containsWrapper(\n",
    "                \"<button\", body), containsWrapper(\"Verify your account\", body.lower())\n",
    "            myValues = [dear, form, button, verifyAcc]\n",
    "            myKeys = [\"Body form\", \"Body dear word\", \"Body button\", \"Body Verify your account\"]\n",
    "            \n",
    "            for x, y in zip(myKeys, myValues):\n",
    "                emailDic[x] = y\n",
    "            \n",
    "            #Verify if \"from\" addr eq to \"return\" addr\n",
    "            try:\n",
    "                fromAddress = re.search('<(.*?)>', str(pData.iloc[0][\"From\"])).group(1)\n",
    "            except AttributeError as e:\n",
    "                fromAddress = str(pData.iloc[0][\"From\"])\n",
    "            if fromAddress == pData.iloc[0][\"Return-Path\"]:\n",
    "                emailDic[\"From eq Return\"] = 1\n",
    "            else:\n",
    "                emailDic[\"From eq Return\"] = 0\n",
    "            \n",
    "            #Count the number of links by counting the number of href tags in html code\n",
    "            links = re.findall(r'<a\\s+[^>]*href=[\"\\']?(http[^\\'\" >]+)', body.lower(), re.M)\n",
    "            emailDic[\"Number of Links\"] = len(links)\n",
    "            \n",
    "            #Count the number of function words inside the email\n",
    "            for word in functionWords:\n",
    "                if body.lower().find(word.lower()) != -1:\n",
    "                    emailDic[\"Body no of function words\"] += 1\n",
    "            \n",
    "            #Print the data for the model\n",
    "            trainPish = pd.concat([trainPish, pd.DataFrame(data=[emailDic])])\n",
    "            \n",
    "        except UnicodeDecodeError:\n",
    "            encodingErrorFiles.append(filename)"
   ],
   "outputs": [],
   "execution_count": 4
  },
  {
   "cell_type": "code",
   "id": "7f5b02b83b2657a",
   "metadata": {
    "ExecuteTime": {
     "end_time": "2024-06-20T04:06:50.233666Z",
     "start_time": "2024-06-20T04:06:50.228399Z"
    }
   },
   "source": [
    "#Print files with encoding errors\n",
    "print(encodingErrorFiles) "
   ],
   "outputs": [
    {
     "name": "stdout",
     "output_type": "stream",
     "text": [
      "['sample-1095.eml', 'sample-117.eml', 'sample-123.eml', 'sample-1233.eml', 'sample-131.eml', 'sample-1315.eml', 'sample-133.eml', 'sample-1420.eml', 'sample-1525.eml', 'sample-1635.eml', 'sample-166.eml', 'sample-1919.eml', 'sample-1955.eml', 'sample-1975.eml', 'sample-1995.eml', 'sample-20.eml', 'sample-2148.eml', 'sample-2451.eml', 'sample-263.eml', 'sample-3192.eml', 'sample-3268.eml', 'sample-354.eml', 'sample-391.eml', 'sample-392.eml', 'sample-428.eml', 'sample-429.eml', 'sample-430.eml', 'sample-432.eml', 'sample-433.eml', 'sample-822.eml', 'sample-894.eml', 'sample-990.eml']\n"
     ]
    }
   ],
   "execution_count": 5
  },
  {
   "cell_type": "code",
   "id": "cab9c1b4a8ea2216",
   "metadata": {
    "ExecuteTime": {
     "end_time": "2024-06-20T04:07:22.067212Z",
     "start_time": "2024-06-20T04:07:12.638401Z"
    }
   },
   "source": [
    "trainPish.set_index([\"Index\"], inplace=True)\n",
    "bodyData.set_index([\"Index\"], inplace=True)\n",
    "\n",
    "#Apply the stripping for the emails where I have just the html information\n",
    "bodyData['Text'] = bodyData.apply(lambda row: strip_tags(row[\"Text\"]) if row[\"Body html\"] == 1 else row[\"Text\"],axis=1)"
   ],
   "outputs": [],
   "execution_count": 6
  },
  {
   "cell_type": "code",
   "id": "628c751500c889d0",
   "metadata": {
    "ExecuteTime": {
     "end_time": "2024-06-20T04:07:37.291674Z",
     "start_time": "2024-06-20T04:07:24.253160Z"
    }
   },
   "source": [
    "bodyData['Lang'] = bodyData['Text'].apply(get_lang)\n",
    "bodyData['Lang'].value_counts().plot(kind='bar')"
   ],
   "outputs": [
    {
     "data": {
      "text/plain": [
       "<Axes: xlabel='Lang'>"
      ]
     },
     "execution_count": 7,
     "metadata": {},
     "output_type": "execute_result"
    },
    {
     "data": {
      "text/plain": [
       "<Figure size 640x480 with 1 Axes>"
      ],
      "image/png": "[encoded data removed]"
     },
     "metadata": {},
     "output_type": "display_data"
    }
   ],
   "execution_count": 7
  },
  {
   "cell_type": "code",
   "execution_count": 268,
   "id": "368ea3e8ea78f868",
   "metadata": {
    "ExecuteTime": {
     "end_time": "2024-05-26T18:56:57.225083Z",
     "start_time": "2024-05-26T18:56:57.219325Z"
    }
   },
   "outputs": [],
   "source": [
    "#print(bodyData.query(\"Lang == 'empty'\").value_counts())\n",
    "print(bodyData.loc[\"<CANXpgOo_98j4Gfuj2mMFYUaTgWQhW4GxuO8VONmuQ9MZXcJSDg@mail.gmail.com>\"])"
   ]
  },
  {
   "cell_type": "code",
   "id": "940c22eedd2d0bef",
   "metadata": {
    "ExecuteTime": {
     "end_time": "2024-06-20T04:08:36.412679Z",
     "start_time": "2024-06-20T04:08:36.406988Z"
    }
   },
   "source": [
    "print(bodyData.columns)"
   ],
   "outputs": [
    {
     "name": "stdout",
     "output_type": "stream",
     "text": [
      "Index(['Text', 'Body html', 'Lang'], dtype='object')\n"
     ]
    }
   ],
   "execution_count": 8
  },
  {
   "cell_type": "markdown",
   "id": "b5f1e054c954e833",
   "metadata": {},
   "source": [
    "#### Merge the stripped text along with the language"
   ]
  },
  {
   "cell_type": "code",
   "id": "e949acf8d917b7d",
   "metadata": {
    "ExecuteTime": {
     "end_time": "2024-06-20T04:08:39.958104Z",
     "start_time": "2024-06-20T04:08:39.937317Z"
    }
   },
   "source": [
    "allData = pd.merge(left=trainPish, right=bodyData[['Text','Lang']], how='outer', left_index=True, right_index=True)"
   ],
   "outputs": [],
   "execution_count": 9
  },
  {
   "cell_type": "code",
   "id": "f4f5dc56a92aa1f3",
   "metadata": {
    "ExecuteTime": {
     "end_time": "2024-06-20T04:08:41.176835Z",
     "start_time": "2024-06-20T04:08:41.164084Z"
    }
   },
   "source": [
    "allData.info()"
   ],
   "outputs": [
    {
     "name": "stdout",
     "output_type": "stream",
     "text": [
      "<class 'pandas.core.frame.DataFrame'>\n",
      "Index: 3348 entries,  <000cab25-bb13-4475-bc2c-f4d6433e02e9@VI1EUR04FT014.eop-eur04.prod.protection.outlook.com> to Up58GQl7Ga6ws6_9A21CN7067g4N4g4896.R3ub672641DC57523qU-750287767C262@hotmail.com\n",
      "Data columns (total 14 columns):\n",
      " #   Column                     Non-Null Count  Dtype \n",
      "---  ------                     --------------  ----- \n",
      " 0   DKIM                       3348 non-null   int64 \n",
      " 1   SPF                        3348 non-null   int64 \n",
      " 2   DMARC                      3348 non-null   int64 \n",
      " 3   ARC                        3348 non-null   int64 \n",
      " 4   Body dear word             3348 non-null   int64 \n",
      " 5   Body form                  3348 non-null   int64 \n",
      " 6   Body html                  3348 non-null   int64 \n",
      " 7   Body button                3348 non-null   int64 \n",
      " 8   Number of Links            3348 non-null   int64 \n",
      " 9   Body Verify your account   3348 non-null   int64 \n",
      " 10  Body no of function words  3348 non-null   int64 \n",
      " 11  From eq Return             3348 non-null   int64 \n",
      " 12  Text                       3348 non-null   object\n",
      " 13  Lang                       3348 non-null   object\n",
      "dtypes: int64(12), object(2)\n",
      "memory usage: 392.3+ KB\n"
     ]
    }
   ],
   "execution_count": 10
  },
  {
   "cell_type": "code",
   "execution_count": 272,
   "id": "2a0394d59ca223d2",
   "metadata": {
    "ExecuteTime": {
     "end_time": "2024-05-26T18:57:10.943247Z",
     "start_time": "2024-05-26T18:57:10.932120Z"
    }
   },
   "outputs": [],
   "source": [
    "allData"
   ]
  },
  {
   "cell_type": "code",
   "id": "22dcd4bc425a1aa1",
   "metadata": {
    "ExecuteTime": {
     "end_time": "2024-06-20T04:09:27.112704Z",
     "start_time": "2024-06-20T04:09:26.836725Z"
    }
   },
   "source": [
    "allData = allData.query(\"`Lang` == 'en'\")\n",
    "allData.loc[:,\"Text\"] = allData.loc[:,\"Text\"].apply(remove_punct)\n",
    "allData.loc[:,\"Text\"] = allData.loc[:,\"Text\"].apply(lambda row: row.strip())\n",
    "allData.info()"
   ],
   "outputs": [
    {
     "name": "stdout",
     "output_type": "stream",
     "text": [
      "<class 'pandas.core.frame.DataFrame'>\n",
      "Index: 1974 entries,  <000cab25-bb13-4475-bc2c-f4d6433e02e9@VI1EUR04FT014.eop-eur04.prod.protection.outlook.com> to Up58GQl7Ga6ws6_9A21CN7067g4N4g4896.R3ub672641DC57523qU-750287767C262@hotmail.com\n",
      "Data columns (total 14 columns):\n",
      " #   Column                     Non-Null Count  Dtype \n",
      "---  ------                     --------------  ----- \n",
      " 0   DKIM                       1974 non-null   int64 \n",
      " 1   SPF                        1974 non-null   int64 \n",
      " 2   DMARC                      1974 non-null   int64 \n",
      " 3   ARC                        1974 non-null   int64 \n",
      " 4   Body dear word             1974 non-null   int64 \n",
      " 5   Body form                  1974 non-null   int64 \n",
      " 6   Body html                  1974 non-null   int64 \n",
      " 7   Body button                1974 non-null   int64 \n",
      " 8   Number of Links            1974 non-null   int64 \n",
      " 9   Body Verify your account   1974 non-null   int64 \n",
      " 10  Body no of function words  1974 non-null   int64 \n",
      " 11  From eq Return             1974 non-null   int64 \n",
      " 12  Text                       1974 non-null   object\n",
      " 13  Lang                       1974 non-null   object\n",
      "dtypes: int64(12), object(2)\n",
      "memory usage: 231.3+ KB\n"
     ]
    }
   ],
   "execution_count": 11
  },
  {
   "cell_type": "code",
   "execution_count": 278,
   "id": "8af7f771fca4a849",
   "metadata": {
    "ExecuteTime": {
     "end_time": "2024-05-26T19:02:35.550418Z",
     "start_time": "2024-05-26T19:02:35.468730Z"
    }
   },
   "outputs": [],
   "source": [
    "allData.to_csv(\"PhishingData.csv\", index=True, encoding=\"utf-8\")"
   ]
  },
  {
   "cell_type": "code",
   "execution_count": null,
   "id": "aa7f652c6f220427",
   "metadata": {},
   "outputs": [],
   "source": []
  }
 ],
 "metadata": {
  "kernelspec": {
   "display_name": "Python 3 (ipykernel)",
   "language": "python",
   "name": "python3"
  },
  "language_info": {
   "codemirror_mode": {
    "name": "ipython",
    "version": 3
   },
   "file_extension": ".py",
   "mimetype": "text/x-python",
   "name": "python",
   "nbconvert_exporter": "python",
   "pygments_lexer": "ipython3",
   "version": "3.12.1"
  }
 },
 "nbformat": 4,
 "nbformat_minor": 5
}
