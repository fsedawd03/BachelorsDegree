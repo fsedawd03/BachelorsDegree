{
 "cells": [
  {
   "cell_type": "code",
   "id": "initial_id",
   "metadata": {
    "collapsed": true,
    "ExecuteTime": {
     "end_time": "2024-05-26T18:32:56.403593Z",
     "start_time": "2024-05-26T18:32:54.203667Z"
    }
   },
   "source": [
    "import email\n",
    "import pandas as pd\n",
    "from fast_mail_parser import parse_email, ParseError\n",
    "import numpy as np\n",
    "import re\n",
    "import os\n",
    "import langdetect as ld\n",
    "from bs4 import BeautifulSoup"
   ],
   "execution_count": 256,
   "outputs": []
  },
  {
   "metadata": {
    "ExecuteTime": {
     "end_time": "2024-05-26T14:55:58.511727Z",
     "start_time": "2024-05-26T14:55:58.508071Z"
    }
   },
   "cell_type": "code",
   "source": "pd.set_option('display.max_colwidth',50)",
   "id": "b1eb388e6dc5fedc",
   "execution_count": 128,
   "outputs": []
  },
  {
   "metadata": {
    "ExecuteTime": {
     "end_time": "2024-05-26T18:55:00.559112Z",
     "start_time": "2024-05-26T18:55:00.477061Z"
    }
   },
   "cell_type": "code",
   "source": [
    "def strip_tags(html):\n",
    "    s = BeautifulSoup(html,'html.parser')\n",
    "    return s.get_text()\n",
    "\n",
    "def get_lang(text: str) -> str:\n",
    "    try:\n",
    "        if text.strip() == '':\n",
    "            return \"empty\"\n",
    "        else:\n",
    "            return ld.detect(text)\n",
    "    except:\n",
    "        return \"unknown\"\n",
    "    \n",
    "def remove_punct(text: str) -> str:\n",
    "    txt = re.sub('[^a-zA-Z]', ' ', text)\n",
    "    return txt"
   ],
   "id": "5daf8163a4bb52b2",
   "execution_count": 261,
   "outputs": []
  },
  {
   "metadata": {
    "ExecuteTime": {
     "end_time": "2024-05-26T18:55:58.035747Z",
     "start_time": "2024-05-26T18:55:44.302611Z"
    }
   },
   "cell_type": "code",
   "source": [
    "trainPish = pd.DataFrame()\n",
    "encodingErrorFiles = list()\n",
    "bodyData = pd.DataFrame(columns=['Text','Index','Body html'])\n",
    "idx2 = 0\n",
    "\n",
    "for filename in os.listdir(\"C:\\\\Users\\\\Dan\\\\Downloads\\\\phishing_pot-main\\\\email\"):\n",
    "    with open(os.path.join(\"C:\\\\Users\\\\Dan\\\\Downloads\\\\phishing_pot-main\\\\email\",filename), \"r\",encoding=\"utf8\") as f:\n",
    "        #print(filename)\n",
    "        try:\n",
    "            message_payload = f.read()\n",
    "            try:\n",
    "                email = parse_email(message_payload)  #Is a dict\n",
    "            except ParseError as e:\n",
    "                print(\"Failed to parse the email \", e)\n",
    "            \n",
    "            listKeys = [\"From\", \"Subject\", \"To\", \"Return-Path\", \"Authentication-Results\", \"Message-Id\"]\n",
    "            \n",
    "            #In case the \"To\" header is written wrong(less than 10 files in the dataset are)\n",
    "            try:\n",
    "                email.headers[\"To\"]\n",
    "            except KeyError:\n",
    "                for k in email.headers.keys():\n",
    "                    if \"to\" in k.lower():\n",
    "                        listKeys.append(k)\n",
    "                        listKeys.remove(\"To\")\n",
    "                        break\n",
    "            \n",
    "            #Transform from list to array to match the required shape (1,5) to (1,5)\n",
    "            #Case insensitive dictionary\n",
    "            H_lower = {k.lower():v for k,v in email.headers.items()}\n",
    "            \n",
    "            #Initialize values not found in the email body to make sure no errors are present\n",
    "            for k in listKeys:\n",
    "                try:\n",
    "                    H_lower[k.lower()]\n",
    "                except KeyError:\n",
    "                    H_lower[k.lower()] = \"None\"\n",
    "                    \n",
    "            data = [H_lower[k.lower()] for k in listKeys]\n",
    "            data2 = np.array([data])\n",
    "            index = H_lower[\"message-id\"]\n",
    "            index2 = index\n",
    "            if index2 == \"None\":\n",
    "                index2 = \"I\" + str(idx2)\n",
    "                idx2 += 1\n",
    "            pData = pd.DataFrame(data=data2, columns=listKeys)\n",
    "            pData.set_index('Message-Id', inplace=True)\n",
    "                \n",
    "            emailDic = {\n",
    "                \"Index\": index2,\n",
    "                \"DKIM\": -1,  #Checks whether the email passed the dkim check\n",
    "                \"SPF\": -1,  #Checks whether the email passed the spf check\n",
    "                \"DMARC\": -1,  #Checks whether the email passed the dmarc check\n",
    "                \"ARC\": -1,  #Checks whether the email passed the arc check\n",
    "                \"Body dear word\": -1,  #Checks whether the email has the \"dear\" word inside it\n",
    "                \"Body form\": -1,  #Checks whether the email has a form html tag \n",
    "                \"Body html\": -1,  #Checks whether the email contains html\n",
    "                \"Body button\": -1,  #Checks whether the email has buttons\n",
    "                \"Number of Links\": 0,  #Counts the number of links inside the email\n",
    "                \"Body Verify your account\": -1,  #Checks whether the email contains the string \"verify your account\"\n",
    "                \"Body no of function words\": 0,  #Counts the number of function words\n",
    "                \"From eq Return\": -1  #Checks whether the from address is equal to the reply address\n",
    "            }\n",
    "            \n",
    "            functionWords = [\"Account\", \"Access\", \"Bank\", \"Credit\", \"Click\", \"Identity\", \"Inconvenience\", \"Information\", \"Limited\",\n",
    "                             \"Log\", \"Minutes\", \"Password\", \"Recently\", \"Risk\", \"Security\", \"Social\", \"Service\", \"Suspended\",\n",
    "                             \"Urgent\"]\n",
    "            \n",
    "            #Get email html/text \n",
    "            try:\n",
    "                contentType = H_lower[\"Content-type\".lower()]\n",
    "            except KeyError:\n",
    "                contentType = \"text/plain\"\n",
    "            \n",
    "            body = ''\n",
    "            if \"text/html\" in contentType:\n",
    "                body = email.text_html[0]\n",
    "                df = {\"Text\": body,'Index':index2, 'Body html': 1}\n",
    "                df = pd.Series(df)\n",
    "                bodyData = bodyData._append(df,ignore_index=True)\n",
    "                emailDic[\"Body html\"] = 1\n",
    "            elif \"text/plain\" in contentType:\n",
    "                body = email.text_plain[0]\n",
    "                df = {\"Text\": body,'Index':index2, 'Body html': 0}\n",
    "                df = pd.Series(df)\n",
    "                bodyData = bodyData._append(df,ignore_index=True)\n",
    "                emailDic[\"Body html\"] = 0\n",
    "            elif \"multipart/alternative\" or \" multipart/mixed\" in contentType:\n",
    "                try:\n",
    "                    body = email.text_plain[0]\n",
    "                    df = {\"Text\": body,'Index':index2,'Body html': 0}\n",
    "                    emailDic[\"Body html\"] = 0\n",
    "                except:\n",
    "                    try: \n",
    "                        body = email.text_html[0]\n",
    "                        df = {\"Text\": body,'Index':index2,'Body html': 1}\n",
    "                        emailDic[\"Body html\"] = 1\n",
    "                    except:\n",
    "                        emailDic[\"Body html\"] = 0\n",
    "                        df = {\"Text\": body,'Index':index2,'Body html': 0}\n",
    "                        pass\n",
    "                df = pd.Series(df)\n",
    "                bodyData = bodyData._append(df,ignore_index=True)\n",
    "            else:\n",
    "                emailDic[\"Body html\"] = 0\n",
    "                df = {\"Text\": body,'Index':index,'Body html': 0}\n",
    "                df = pd.Series(df)\n",
    "                bodyData = bodyData._append(df,ignore_index=True)\n",
    "            #print(body)\n",
    "            \n",
    "            #Verify Dkim, spf, arc and dmarc passes\n",
    "            if \"dkim=pass\" in pData.loc[index][\"Authentication-Results\"]:\n",
    "                emailDic[\"DKIM\"] = 1\n",
    "            else:\n",
    "                emailDic[\"DKIM\"] = 0\n",
    "            if \"spf=pass\" in pData.loc[index][\"Authentication-Results\"]:\n",
    "                emailDic[\"SPF\"] = 1\n",
    "            else:\n",
    "                emailDic[\"SPF\"] = 0\n",
    "            if \"dmarc=pass\" in pData.loc[index][\"Authentication-Results\"]:\n",
    "                emailDic[\"DMARC\"] = 1\n",
    "            else:\n",
    "                emailDic[\"DMARC\"] = 0\n",
    "            if \"arc=pass\" in pData.loc[index][\"Authentication-Results\"]:\n",
    "                emailDic[\"ARC\"] = 1\n",
    "            else:\n",
    "                emailDic[\"ARC\"] = 0\n",
    "            \n",
    "            \n",
    "            def containsWrapper(searchValue: str, text: str) -> int:\n",
    "                return 1 if searchValue in text else 0\n",
    "            \n",
    "            \n",
    "            dear, form, button, verifyAcc = containsWrapper(\"dear\", body.lower()), containsWrapper(\"<form\", body), containsWrapper(\n",
    "                \"<button\", body), containsWrapper(\"Verify your account\", body.lower())\n",
    "            myValues = [dear, form, button, verifyAcc]\n",
    "            myKeys = [\"Body form\", \"Body dear word\", \"Body button\", \"Body Verify your account\"]\n",
    "            \n",
    "            for x, y in zip(myKeys, myValues):\n",
    "                emailDic[x] = y\n",
    "            \n",
    "            #Verify if \"from\" addr eq to \"return\" addr\n",
    "            try:\n",
    "                fromAddress = re.search('<(.*?)>', str(pData.iloc[0][\"From\"])).group(1)\n",
    "            except AttributeError as e:\n",
    "                fromAddress = str(pData.iloc[0][\"From\"])\n",
    "            if fromAddress == pData.iloc[0][\"Return-Path\"]:\n",
    "                emailDic[\"From eq Return\"] = 1\n",
    "            else:\n",
    "                emailDic[\"From eq Return\"] = 0\n",
    "            \n",
    "            #Count the number of links by counting the number of href tags in html code\n",
    "            links = re.findall(r'<a\\s+[^>]*href=[\"\\']?(http[^\\'\" >]+)', body.lower(), re.M)\n",
    "            emailDic[\"Number of Links\"] = len(links)\n",
    "            \n",
    "            #Count the number of function words inside the email\n",
    "            for word in functionWords:\n",
    "                if body.lower().find(word.lower()) != -1:\n",
    "                    emailDic[\"Body no of function words\"] += 1\n",
    "            \n",
    "            #Print the data for the model\n",
    "            trainPish = pd.concat([trainPish, pd.DataFrame(data=[emailDic])])\n",
    "            \n",
    "        except UnicodeDecodeError:\n",
    "            encodingErrorFiles.append(filename)"
   ],
   "id": "79f8651bd5e5091a",
   "execution_count": 263,
   "outputs": []
  },
  {
   "metadata": {
    "ExecuteTime": {
     "end_time": "2024-05-26T18:56:02.935711Z",
     "start_time": "2024-05-26T18:56:02.931604Z"
    }
   },
   "cell_type": "code",
   "source": [
    "#Print files with encoding errors\n",
    "print(encodingErrorFiles) "
   ],
   "id": "7f5b02b83b2657a",
   "execution_count": 264,
   "outputs": []
  },
  {
   "metadata": {
    "ExecuteTime": {
     "end_time": "2024-05-26T18:56:24.549394Z",
     "start_time": "2024-05-26T18:56:10.541607Z"
    }
   },
   "cell_type": "code",
   "source": [
    "trainPish.set_index([\"Index\"], inplace=True)\n",
    "bodyData.set_index([\"Index\"], inplace=True)\n",
    "\n",
    "#Apply the stripping for the emails where I have just the html information\n",
    "bodyData['Text'] = bodyData.apply(lambda row: strip_tags(row[\"Text\"]) if row[\"Body html\"] == 1 else row[\"Text\"],axis=1)"
   ],
   "id": "cab9c1b4a8ea2216",
   "execution_count": 265,
   "outputs": []
  },
  {
   "metadata": {
    "ExecuteTime": {
     "end_time": "2024-05-26T18:56:51.878779Z",
     "start_time": "2024-05-26T18:56:38.095452Z"
    }
   },
   "cell_type": "code",
   "source": [
    "bodyData['Lang'] = bodyData['Text'].apply(get_lang)\n",
    "bodyData['Lang'].value_counts().plot(kind='bar')"
   ],
   "id": "628c751500c889d0",
   "execution_count": 267,
   "outputs": []
  },
  {
   "metadata": {
    "ExecuteTime": {
     "end_time": "2024-05-26T18:56:57.225083Z",
     "start_time": "2024-05-26T18:56:57.219325Z"
    }
   },
   "cell_type": "code",
   "source": [
    "#print(bodyData.query(\"Lang == 'empty'\").value_counts())\n",
    "print(bodyData.loc[\"<CANXpgOo_98j4Gfuj2mMFYUaTgWQhW4GxuO8VONmuQ9MZXcJSDg@mail.gmail.com>\"])"
   ],
   "id": "368ea3e8ea78f868",
   "execution_count": 268,
   "outputs": []
  },
  {
   "metadata": {
    "ExecuteTime": {
     "end_time": "2024-05-26T18:57:00.592343Z",
     "start_time": "2024-05-26T18:57:00.588554Z"
    }
   },
   "cell_type": "code",
   "source": "print(bodyData.columns)",
   "id": "940c22eedd2d0bef",
   "execution_count": 269,
   "outputs": []
  },
  {
   "metadata": {},
   "cell_type": "markdown",
   "source": "#### Merge the stripped text along with the language",
   "id": "b5f1e054c954e833"
  },
  {
   "metadata": {
    "ExecuteTime": {
     "end_time": "2024-05-26T18:57:04.441504Z",
     "start_time": "2024-05-26T18:57:04.422078Z"
    }
   },
   "cell_type": "code",
   "source": "allData = pd.merge(left=trainPish, right=bodyData[['Text','Lang']], how='outer', left_index=True, right_index=True)",
   "id": "e949acf8d917b7d",
   "execution_count": 270,
   "outputs": []
  },
  {
   "metadata": {
    "ExecuteTime": {
     "end_time": "2024-05-26T18:57:06.655058Z",
     "start_time": "2024-05-26T18:57:06.629319Z"
    }
   },
   "cell_type": "code",
   "source": "allData.info()",
   "id": "f4f5dc56a92aa1f3",
   "execution_count": 271,
   "outputs": []
  },
  {
   "metadata": {
    "ExecuteTime": {
     "end_time": "2024-05-26T18:57:10.943247Z",
     "start_time": "2024-05-26T18:57:10.932120Z"
    }
   },
   "cell_type": "code",
   "source": "allData",
   "id": "2a0394d59ca223d2",
   "execution_count": 272,
   "outputs": []
  },
  {
   "metadata": {
    "ExecuteTime": {
     "end_time": "2024-05-26T19:02:27.726443Z",
     "start_time": "2024-05-26T19:02:27.515604Z"
    }
   },
   "cell_type": "code",
   "source": [
    "allData = allData.query(\"`Lang` == 'en'\")\n",
    "allData.loc[:,\"Text\"] = allData.loc[:,\"Text\"].apply(remove_punct)\n",
    "allData.loc[:,\"Text\"] = allData.loc[:,\"Text\"].apply(lambda row: row.strip())\n",
    "allData "
   ],
   "id": "22dcd4bc425a1aa1",
   "execution_count": 277,
   "outputs": []
  },
  {
   "metadata": {
    "ExecuteTime": {
     "end_time": "2024-05-26T19:02:35.550418Z",
     "start_time": "2024-05-26T19:02:35.468730Z"
    }
   },
   "cell_type": "code",
   "source": "allData.to_csv(\"PhishingData.csv\", index=True, encoding=\"utf-8\")",
   "id": "8af7f771fca4a849",
   "execution_count": 278,
   "outputs": []
  },
  {
   "metadata": {},
   "cell_type": "code",
   "execution_count": null,
   "source": "",
   "id": "aa7f652c6f220427",
   "outputs": []
  }
 ],
 "metadata": {
  "kernelspec": {
   "display_name": "Python 3",
   "language": "python",
   "name": "python3"
  },
  "language_info": {
   "codemirror_mode": {
    "name": "ipython",
    "version": 2
   },
   "file_extension": ".py",
   "mimetype": "text/x-python",
   "name": "python",
   "nbconvert_exporter": "python",
   "pygments_lexer": "ipython2",
   "version": "2.7.6"
  }
 },
 "nbformat": 4,
 "nbformat_minor": 5
}
