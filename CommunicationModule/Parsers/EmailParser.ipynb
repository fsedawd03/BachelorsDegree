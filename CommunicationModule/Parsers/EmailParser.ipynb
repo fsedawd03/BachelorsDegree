{
 "cells": [
  {
   "cell_type": "markdown",
   "id": "49422c567f458d6b",
   "metadata": {},
   "source": "#### Imported necessary libraries"
  },
  {
   "cell_type": "code",
   "execution_count": 1,
   "id": "initial_id",
   "metadata": {
    "ExecuteTime": {
     "end_time": "2024-06-17T21:39:46.773634Z",
     "start_time": "2024-06-17T21:39:44.191942Z"
    },
    "collapsed": true
   },
   "outputs": [],
   "source": [
    "import re\n",
    "from email.parser import HeaderParser\n",
    "\n",
    "import joblib\n",
    "import nltk\n",
    "import pandas as pd\n",
    "from bs4 import BeautifulSoup\n",
    "\n",
    "from DTO.EmailData import EmailData\n",
    "from Parsers.EmailParser import emailParser"
   ]
  },
  {
   "cell_type": "markdown",
   "id": "bb952ef91d4bdf24",
   "metadata": {},
   "source": "#### Pandas ENV Variables"
  },
  {
   "cell_type": "code",
   "execution_count": 17,
   "id": "8ecabc603618c721",
   "metadata": {
    "ExecuteTime": {
     "end_time": "2024-06-10T23:13:36.512814Z",
     "start_time": "2024-06-10T23:13:36.507593Z"
    }
   },
   "outputs": [],
   "source": [
    "pd.set_option(\"display.max_colwidth\", 200)"
   ]
  },
  {
   "cell_type": "markdown",
   "id": "84f6daff3a88fca8",
   "metadata": {},
   "source": "#### Transform the email headers from string to pandas DataFrame"
  },
  {
   "cell_type": "code",
   "execution_count": 13,
   "id": "c2716c6f884a398b",
   "metadata": {
    "ExecuteTime": {
     "end_time": "2024-06-17T21:59:52.813156Z",
     "start_time": "2024-06-17T21:59:51.579128Z"
    }
   },
   "outputs": [
    {
     "ename": "KeyError",
     "evalue": "\"None of [Index(['From', 'Subject', 'To', 'Return-Path', 'Authentication-Results'], dtype='object')] are in the [index]\"",
     "output_type": "error",
     "traceback": [
      "\u001b[1;31m---------------------------------------------------------------------------\u001b[0m",
      "\u001b[1;31mKeyError\u001b[0m                                  Traceback (most recent call last)",
      "Cell \u001b[1;32mIn[13], line 10\u001b[0m\n\u001b[0;32m      7\u001b[0m parser \u001b[38;5;241m=\u001b[39m HeaderParser()\n\u001b[0;32m      8\u001b[0m h \u001b[38;5;241m=\u001b[39m parser\u001b[38;5;241m.\u001b[39mparsestr(e)\n\u001b[1;32m---> 10\u001b[0m pData \u001b[38;5;241m=\u001b[39m \u001b[43mpd\u001b[49m\u001b[38;5;241;43m.\u001b[39;49m\u001b[43mDataFrame\u001b[49m\u001b[43m(\u001b[49m\u001b[43mdata\u001b[49m\u001b[38;5;241;43m=\u001b[39;49m\u001b[43mh\u001b[49m\u001b[38;5;241;43m.\u001b[39;49m\u001b[43mvalues\u001b[49m\u001b[43m(\u001b[49m\u001b[43m)\u001b[49m\u001b[43m,\u001b[49m\u001b[43m \u001b[49m\u001b[43mindex\u001b[49m\u001b[38;5;241;43m=\u001b[39;49m\u001b[43mh\u001b[49m\u001b[38;5;241;43m.\u001b[39;49m\u001b[43mkeys\u001b[49m\u001b[43m(\u001b[49m\u001b[43m)\u001b[49m\u001b[43m)\u001b[49m\u001b[38;5;241;43m.\u001b[39;49m\u001b[43mloc\u001b[49m\u001b[43m[\u001b[49m\n\u001b[0;32m     11\u001b[0m \u001b[43m    \u001b[49m\u001b[43m[\u001b[49m\u001b[38;5;124;43m\"\u001b[39;49m\u001b[38;5;124;43mFrom\u001b[39;49m\u001b[38;5;124;43m\"\u001b[39;49m\u001b[43m,\u001b[49m\u001b[43m \u001b[49m\u001b[38;5;124;43m\"\u001b[39;49m\u001b[38;5;124;43mSubject\u001b[39;49m\u001b[38;5;124;43m\"\u001b[39;49m\u001b[43m,\u001b[49m\u001b[43m \u001b[49m\u001b[38;5;124;43m\"\u001b[39;49m\u001b[38;5;124;43mTo\u001b[39;49m\u001b[38;5;124;43m\"\u001b[39;49m\u001b[43m,\u001b[49m\u001b[43m \u001b[49m\u001b[38;5;124;43m\"\u001b[39;49m\u001b[38;5;124;43mReturn-Path\u001b[39;49m\u001b[38;5;124;43m\"\u001b[39;49m\u001b[43m,\u001b[49m\u001b[43m \u001b[49m\u001b[38;5;124;43m\"\u001b[39;49m\u001b[38;5;124;43mAuthentication-Results\u001b[39;49m\u001b[38;5;124;43m\"\u001b[39;49m\u001b[43m]\u001b[49m\u001b[43m]\u001b[49m\n\u001b[0;32m     13\u001b[0m \u001b[38;5;66;03m#Show how the frame looks\u001b[39;00m\n\u001b[0;32m     14\u001b[0m \u001b[38;5;28mprint\u001b[39m(pData)\n",
      "File \u001b[1;32m~\\Personal\\Bachelor's Degree\\TestTS\\BachelorsDegree\\CommunicationModule\\.venv\\Lib\\site-packages\\pandas\\core\\indexing.py:1191\u001b[0m, in \u001b[0;36m_LocationIndexer.__getitem__\u001b[1;34m(self, key)\u001b[0m\n\u001b[0;32m   1189\u001b[0m maybe_callable \u001b[38;5;241m=\u001b[39m com\u001b[38;5;241m.\u001b[39mapply_if_callable(key, \u001b[38;5;28mself\u001b[39m\u001b[38;5;241m.\u001b[39mobj)\n\u001b[0;32m   1190\u001b[0m maybe_callable \u001b[38;5;241m=\u001b[39m \u001b[38;5;28mself\u001b[39m\u001b[38;5;241m.\u001b[39m_check_deprecated_callable_usage(key, maybe_callable)\n\u001b[1;32m-> 1191\u001b[0m \u001b[38;5;28;01mreturn\u001b[39;00m \u001b[38;5;28;43mself\u001b[39;49m\u001b[38;5;241;43m.\u001b[39;49m\u001b[43m_getitem_axis\u001b[49m\u001b[43m(\u001b[49m\u001b[43mmaybe_callable\u001b[49m\u001b[43m,\u001b[49m\u001b[43m \u001b[49m\u001b[43maxis\u001b[49m\u001b[38;5;241;43m=\u001b[39;49m\u001b[43maxis\u001b[49m\u001b[43m)\u001b[49m\n",
      "File \u001b[1;32m~\\Personal\\Bachelor's Degree\\TestTS\\BachelorsDegree\\CommunicationModule\\.venv\\Lib\\site-packages\\pandas\\core\\indexing.py:1420\u001b[0m, in \u001b[0;36m_LocIndexer._getitem_axis\u001b[1;34m(self, key, axis)\u001b[0m\n\u001b[0;32m   1417\u001b[0m     \u001b[38;5;28;01mif\u001b[39;00m \u001b[38;5;28mhasattr\u001b[39m(key, \u001b[38;5;124m\"\u001b[39m\u001b[38;5;124mndim\u001b[39m\u001b[38;5;124m\"\u001b[39m) \u001b[38;5;129;01mand\u001b[39;00m key\u001b[38;5;241m.\u001b[39mndim \u001b[38;5;241m>\u001b[39m \u001b[38;5;241m1\u001b[39m:\n\u001b[0;32m   1418\u001b[0m         \u001b[38;5;28;01mraise\u001b[39;00m \u001b[38;5;167;01mValueError\u001b[39;00m(\u001b[38;5;124m\"\u001b[39m\u001b[38;5;124mCannot index with multidimensional key\u001b[39m\u001b[38;5;124m\"\u001b[39m)\n\u001b[1;32m-> 1420\u001b[0m     \u001b[38;5;28;01mreturn\u001b[39;00m \u001b[38;5;28;43mself\u001b[39;49m\u001b[38;5;241;43m.\u001b[39;49m\u001b[43m_getitem_iterable\u001b[49m\u001b[43m(\u001b[49m\u001b[43mkey\u001b[49m\u001b[43m,\u001b[49m\u001b[43m \u001b[49m\u001b[43maxis\u001b[49m\u001b[38;5;241;43m=\u001b[39;49m\u001b[43maxis\u001b[49m\u001b[43m)\u001b[49m\n\u001b[0;32m   1422\u001b[0m \u001b[38;5;66;03m# nested tuple slicing\u001b[39;00m\n\u001b[0;32m   1423\u001b[0m \u001b[38;5;28;01mif\u001b[39;00m is_nested_tuple(key, labels):\n",
      "File \u001b[1;32m~\\Personal\\Bachelor's Degree\\TestTS\\BachelorsDegree\\CommunicationModule\\.venv\\Lib\\site-packages\\pandas\\core\\indexing.py:1360\u001b[0m, in \u001b[0;36m_LocIndexer._getitem_iterable\u001b[1;34m(self, key, axis)\u001b[0m\n\u001b[0;32m   1357\u001b[0m \u001b[38;5;28mself\u001b[39m\u001b[38;5;241m.\u001b[39m_validate_key(key, axis)\n\u001b[0;32m   1359\u001b[0m \u001b[38;5;66;03m# A collection of keys\u001b[39;00m\n\u001b[1;32m-> 1360\u001b[0m keyarr, indexer \u001b[38;5;241m=\u001b[39m \u001b[38;5;28;43mself\u001b[39;49m\u001b[38;5;241;43m.\u001b[39;49m\u001b[43m_get_listlike_indexer\u001b[49m\u001b[43m(\u001b[49m\u001b[43mkey\u001b[49m\u001b[43m,\u001b[49m\u001b[43m \u001b[49m\u001b[43maxis\u001b[49m\u001b[43m)\u001b[49m\n\u001b[0;32m   1361\u001b[0m \u001b[38;5;28;01mreturn\u001b[39;00m \u001b[38;5;28mself\u001b[39m\u001b[38;5;241m.\u001b[39mobj\u001b[38;5;241m.\u001b[39m_reindex_with_indexers(\n\u001b[0;32m   1362\u001b[0m     {axis: [keyarr, indexer]}, copy\u001b[38;5;241m=\u001b[39m\u001b[38;5;28;01mTrue\u001b[39;00m, allow_dups\u001b[38;5;241m=\u001b[39m\u001b[38;5;28;01mTrue\u001b[39;00m\n\u001b[0;32m   1363\u001b[0m )\n",
      "File \u001b[1;32m~\\Personal\\Bachelor's Degree\\TestTS\\BachelorsDegree\\CommunicationModule\\.venv\\Lib\\site-packages\\pandas\\core\\indexing.py:1558\u001b[0m, in \u001b[0;36m_LocIndexer._get_listlike_indexer\u001b[1;34m(self, key, axis)\u001b[0m\n\u001b[0;32m   1555\u001b[0m ax \u001b[38;5;241m=\u001b[39m \u001b[38;5;28mself\u001b[39m\u001b[38;5;241m.\u001b[39mobj\u001b[38;5;241m.\u001b[39m_get_axis(axis)\n\u001b[0;32m   1556\u001b[0m axis_name \u001b[38;5;241m=\u001b[39m \u001b[38;5;28mself\u001b[39m\u001b[38;5;241m.\u001b[39mobj\u001b[38;5;241m.\u001b[39m_get_axis_name(axis)\n\u001b[1;32m-> 1558\u001b[0m keyarr, indexer \u001b[38;5;241m=\u001b[39m \u001b[43max\u001b[49m\u001b[38;5;241;43m.\u001b[39;49m\u001b[43m_get_indexer_strict\u001b[49m\u001b[43m(\u001b[49m\u001b[43mkey\u001b[49m\u001b[43m,\u001b[49m\u001b[43m \u001b[49m\u001b[43maxis_name\u001b[49m\u001b[43m)\u001b[49m\n\u001b[0;32m   1560\u001b[0m \u001b[38;5;28;01mreturn\u001b[39;00m keyarr, indexer\n",
      "File \u001b[1;32m~\\Personal\\Bachelor's Degree\\TestTS\\BachelorsDegree\\CommunicationModule\\.venv\\Lib\\site-packages\\pandas\\core\\indexes\\base.py:6200\u001b[0m, in \u001b[0;36mIndex._get_indexer_strict\u001b[1;34m(self, key, axis_name)\u001b[0m\n\u001b[0;32m   6197\u001b[0m \u001b[38;5;28;01melse\u001b[39;00m:\n\u001b[0;32m   6198\u001b[0m     keyarr, indexer, new_indexer \u001b[38;5;241m=\u001b[39m \u001b[38;5;28mself\u001b[39m\u001b[38;5;241m.\u001b[39m_reindex_non_unique(keyarr)\n\u001b[1;32m-> 6200\u001b[0m \u001b[38;5;28;43mself\u001b[39;49m\u001b[38;5;241;43m.\u001b[39;49m\u001b[43m_raise_if_missing\u001b[49m\u001b[43m(\u001b[49m\u001b[43mkeyarr\u001b[49m\u001b[43m,\u001b[49m\u001b[43m \u001b[49m\u001b[43mindexer\u001b[49m\u001b[43m,\u001b[49m\u001b[43m \u001b[49m\u001b[43maxis_name\u001b[49m\u001b[43m)\u001b[49m\n\u001b[0;32m   6202\u001b[0m keyarr \u001b[38;5;241m=\u001b[39m \u001b[38;5;28mself\u001b[39m\u001b[38;5;241m.\u001b[39mtake(indexer)\n\u001b[0;32m   6203\u001b[0m \u001b[38;5;28;01mif\u001b[39;00m \u001b[38;5;28misinstance\u001b[39m(key, Index):\n\u001b[0;32m   6204\u001b[0m     \u001b[38;5;66;03m# GH 42790 - Preserve name from an Index\u001b[39;00m\n",
      "File \u001b[1;32m~\\Personal\\Bachelor's Degree\\TestTS\\BachelorsDegree\\CommunicationModule\\.venv\\Lib\\site-packages\\pandas\\core\\indexes\\base.py:6249\u001b[0m, in \u001b[0;36mIndex._raise_if_missing\u001b[1;34m(self, key, indexer, axis_name)\u001b[0m\n\u001b[0;32m   6247\u001b[0m \u001b[38;5;28;01mif\u001b[39;00m nmissing:\n\u001b[0;32m   6248\u001b[0m     \u001b[38;5;28;01mif\u001b[39;00m nmissing \u001b[38;5;241m==\u001b[39m \u001b[38;5;28mlen\u001b[39m(indexer):\n\u001b[1;32m-> 6249\u001b[0m         \u001b[38;5;28;01mraise\u001b[39;00m \u001b[38;5;167;01mKeyError\u001b[39;00m(\u001b[38;5;124mf\u001b[39m\u001b[38;5;124m\"\u001b[39m\u001b[38;5;124mNone of [\u001b[39m\u001b[38;5;132;01m{\u001b[39;00mkey\u001b[38;5;132;01m}\u001b[39;00m\u001b[38;5;124m] are in the [\u001b[39m\u001b[38;5;132;01m{\u001b[39;00maxis_name\u001b[38;5;132;01m}\u001b[39;00m\u001b[38;5;124m]\u001b[39m\u001b[38;5;124m\"\u001b[39m)\n\u001b[0;32m   6251\u001b[0m     not_found \u001b[38;5;241m=\u001b[39m \u001b[38;5;28mlist\u001b[39m(ensure_index(key)[missing_mask\u001b[38;5;241m.\u001b[39mnonzero()[\u001b[38;5;241m0\u001b[39m]]\u001b[38;5;241m.\u001b[39munique())\n\u001b[0;32m   6252\u001b[0m     \u001b[38;5;28;01mraise\u001b[39;00m \u001b[38;5;167;01mKeyError\u001b[39;00m(\u001b[38;5;124mf\u001b[39m\u001b[38;5;124m\"\u001b[39m\u001b[38;5;132;01m{\u001b[39;00mnot_found\u001b[38;5;132;01m}\u001b[39;00m\u001b[38;5;124m not in index\u001b[39m\u001b[38;5;124m\"\u001b[39m)\n",
      "\u001b[1;31mKeyError\u001b[0m: \"None of [Index(['From', 'Subject', 'To', 'Return-Path', 'Authentication-Results'], dtype='object')] are in the [index]\""
     ]
    }
   ],
   "source": [
    "e = 'Received: from AS8P189MB1287.EURP189.PROD.OUTLOOK.COM (2603:10a6:20b:2a6::12)\\r\\n by DB9P189MB1833.EURP189.PROD.OUTLOOK.COM with HTTPS; Fri, 26 Jan 2024\\r\\n 11:55:17 +0000\\r\\nReceived: from AM0PR06CA0095.eurprd06.prod.outlook.com (2603:10a6:208:fa::36)\\r\\n by AS8P189MB1287.EURP189.PROD.OUTLOOK.COM (2603:10a6:20b:2a6::12) with\\r\\n Microsoft SMTP Server (version=TLS1_2,\\r\\n cipher=TLS_ECDHE_RSA_WITH_AES_256_GCM_SHA384) id 15.20.7228.22; Fri, 26 Jan\\r\\n 2024 11:55:16 +0000\\r\\nReceived: from VI1EUR05FT068.eop-eur05.prod.protection.outlook.com\\r\\n (2603:10a6:208:fa:cafe::32) by AM0PR06CA0095.outlook.office365.com\\r\\n (2603:10a6:208:fa::36) with Microsoft SMTP Server (version=TLS1_2,\\r\\n cipher=TLS_ECDHE_RSA_WITH_AES_256_GCM_SHA384) id 15.20.7228.27 via Frontend\\r\\n Transport; Fri, 26 Jan 2024 11:55:16 +0000\\r\\nAuthentication-Results: spf=pass (sender IP is 209.85.128.169)\\r\\n smtp.mailfrom=gmail.com; dkim=pass (signature was verified)\\r\\n header.d=gmail.com;dmarc=pass action=none header.from=gmail.com;compauth=pass\\r\\n reason=100\\r\\nReceived-SPF: Pass (protection.outlook.com: domain of gmail.com designates\\r\\n 209.85.128.169 as permitted sender) receiver=protection.outlook.com;\\r\\n client-ip=209.85.128.169; helo=mail-yw1-f169.google.com; pr=C\\r\\nReceived: from mail-yw1-f169.google.com (209.85.128.169) by\\r\\n VI1EUR05FT068.mail.protection.outlook.com (10.233.242.179) with Microsoft\\r\\n SMTP Server (version=TLS1_2, cipher=TLS_ECDHE_RSA_WITH_AES_256_GCM_SHA384) id\\r\\n 15.20.7228.21 via Frontend Transport; Fri, 26 Jan 2024 11:55:16 +0000\\r\\nX-IncomingTopHeaderMarker:\\r\\n OriginalChecksum:193C4CC6070001D490168F7408E4373170375527C24E979596F1CD7AB0DA98C4;UpperCasedChecksum:0738A38079E727F4133772F8E54A3D98E23260AA28691F03BEC46B0AEE93E353;SizeAsReceived:2404;Count:13\\r\\nReceived: by mail-yw1-f169.google.com with SMTP id 00721157ae682-602cf45bfe9so2783637b3.1\\r\\n        for <testaddin2024@outlook.com>; Fri, 26 Jan 2024 03:55:16 -0800 (PST)\\r\\nDKIM-Signature: v=1; a=rsa-sha256; c=relaxed/relaxed;\\r\\n        d=gmail.com; s=20230601; t=1706270116; x=1706874916; darn=outlook.com;\\r\\n        h=to:subject:message-id:date:from:mime-version:from:to:cc:subject\\r\\n         :date:message-id:reply-to;\\r\\n        bh=8tBB2/x2+X6ru2G9+3dhXEw8edOgrRA8xcfehfwxlj4=;\\r\\n        b=NL+VldBbQEk7gVv3+HDrhTyJX6CUaHE704A1zQPvbypmeMEHV7TUtnvv1PUL6ZP5Ec\\r\\n         sz8AaL/fJvxgpW9v+iAsZis1qGbevfrvMc+fZTyAMh7WG/fjEkuZqApcZa9N0lg6Hn28\\r\\n         UASP79s42yMotThbbCCkDas6XoxZ3+ZpSQxVGXWfDAzE1BwsJcslewFNSlNZSkGKZ7Xi\\r\\n         kMedcSUmEbGHcHZ1DxnZ/+4nOj911ixXPYtOguTg4oKimdEQ/MjX6QPH2v/5kGKMdjFU\\r\\n         YW/Krhg5l6+oyC3odyl9H+odJOWGvCuTAct/JiH8w+H6Wh5PlRguUA7Sl3wB9922OtwI\\r\\n         JN9w==\\r\\nX-Google-DKIM-Signature: v=1; a=rsa-sha256; c=relaxed/relaxed;\\r\\n        d=1e100.net; s=20230601; t=1706270116; x=1706874916;\\r\\n        h=to:subject:message-id:date:from:mime-version:x-gm-message-state\\r\\n         :from:to:cc:subject:date:message-id:reply-to;\\r\\n        bh=8tBB2/x2+X6ru2G9+3dhXEw8edOgrRA8xcfehfwxlj4=;\\r\\n        b=CAtGcQsvWLs3cTQmmimA2LZDJLsqcXuAARwMOLzQyAbbA/cpdTUBBqtOgt5L2diZkw\\r\\n         v26ymuFM5bCuxedasZ3q5cbFmQ0qVm7cf6TaH7omiTiGz2Wg9VSAYyJ0F4nqgD3Xu5q1\\r\\n         6GceDJavWmp4pmTZj9nEAUo+gTOgJHcSMlaxTkr0LAMvl5y5AoShYFL21sWOOPVclWgd\\r\\n         g4kFVsyAauUE/xnKJ+MUauajY+1qFcnDs+F4+xLBFnOeloODoEz82p5aoHCzPz3jCBNG\\r\\n         yXz6bbr++uTpTSEP4DLbtV+fXBMNrTgUsT+PepKjTlmkuF1W1a5EdDSC432zgdfZ/2rJ\\r\\n         /iQA==\\r\\nX-Gm-Message-State: AOJu0YwpG+IgPRQP2AkIbZ7G2wJ6UqBS1YEsHWSrn6JT6MXAd9XY3mJx\\r\\n\\tmudTFgyoIjXvn3LJHU3RI7nSisv1gxSsrPAcgJeZTrgpMlgDu/KLh5vYCyPxadRkuyAgE8mRXVe\\r\\n\\tU2awsVLEYVEuTd0Y+4BpWixFEzYO5O/25\\r\\nX-Google-Smtp-Source: AGHT+IGn7zomVQRqFVjQGQS7Rd2byvTsXPC5cKYQ5QrGsv4urojzVWp4lbdD0ENH5uH9xZ6MczRPHdw1RCa6P/+TSZE=\\r\\nX-Received: by 2002:a81:b203:0:b0:5ff:8420:ce7f with SMTP id\\r\\n q3-20020a81b203000000b005ff8420ce7fmr1061455ywh.49.1706270115799; Fri, 26 Jan\\r\\n 2024 03:55:15 -0800 (PST)\\r\\nMIME-Version: 1.0\\r\\nFrom: Dan Barbu <dan.alexandru2003@gmail.com>\\r\\nDate: Fri, 26 Jan 2024 13:55:03 +0200\\r\\nMessage-ID: <CAPSJEV1bheVp_QzHzWza0JWtAExjG88AzamV_UvzD7-0oEwj1g@mail.gmail.com>\\r\\nSubject: test\\r\\nTo: testaddin2024@outlook.com\\r\\nContent-Type: multipart/alternative; boundary=\"00000000000024a8ad060fd7f899\"\\r\\nX-IncomingHeaderCount: 13\\r\\nReturn-Path: dan.alexandru2003@gmail.com\\r\\nX-MS-Exchange-Organization-ExpirationStartTime: 26 Jan 2024 11:55:16.5067\\r\\n (UTC)\\r\\nX-MS-Exchange-Organization-ExpirationStartTimeReason: OriginalSubmit\\r\\nX-MS-Exchange-Organization-ExpirationInterval: 1:00:00:00.0000000\\r\\nX-MS-Exchange-Organization-ExpirationIntervalReason: OriginalSubmit\\r\\nX-MS-Exchange-Organization-Network-Message-Id:\\r\\n 3336fed5-fe25-4142-be56-08dc1e65a98f\\r\\nX-EOPAttributedMessage: 0\\r\\nX-EOPTenantAttributedMessage: 84df9e7f-e9f6-40af-b435-aaaaaaaaaaaa:0\\r\\nX-MS-Exchange-Organization-MessageDirectionality: Incoming\\r\\nX-MS-PublicTrafficType: Email\\r\\nX-MS-TrafficTypeDiagnostic:\\r\\n VI1EUR05FT068:EE_|AS8P189MB1287:EE_|DB9P189MB1833:EE_\\r\\nX-MS-Exchange-Organization-AuthSource:\\r\\n VI1EUR05FT068.eop-eur05.prod.protection.outlook.com\\r\\nX-MS-Exchange-Organization-AuthAs: Anonymous\\r\\nX-MS-UserLastLogonTime: 1/26/2024 11:53:08 AM\\r\\nX-MS-Office365-Filtering-Correlation-Id: 3336fed5-fe25-4142-be56-08dc1e65a98f\\r\\nX-MS-Exchange-EOPDirect: true\\r\\nX-Sender-IP: 209.85.128.169\\r\\nX-SID-PRA: DAN.ALEXANDRU2003@GMAIL.COM\\r\\nX-SID-Result: PASS\\r\\nX-MS-Exchange-Organization-PCL: 2\\r\\nX-MS-Exchange-Organization-SCL: 1\\r\\nX-Microsoft-Antispam: BCL:0;\\r\\nX-MS-Exchange-CrossTenant-OriginalArrivalTime: 26 Jan 2024 11:55:16.4599\\r\\n (UTC)\\r\\nX-MS-Exchange-CrossTenant-Network-Message-Id: 3336fed5-fe25-4142-be56-08dc1e65a98f\\r\\nX-MS-Exchange-CrossTenant-Id: 84df9e7f-e9f6-40af-b435-aaaaaaaaaaaa\\r\\nX-MS-Exchange-CrossTenant-AuthSource:\\r\\n VI1EUR05FT068.eop-eur05.prod.protection.outlook.com\\r\\nX-MS-Exchange-CrossTenant-AuthAs: Anonymous\\r\\nX-MS-Exchange-CrossTenant-FromEntityHeader: Internet\\r\\nX-MS-Exchange-CrossTenant-RMS-PersistedConsumerOrg:\\r\\n 00000000-0000-0000-0000-000000000000\\r\\nX-MS-Exchange-Transport-CrossTenantHeadersStamped: AS8P189MB1287\\r\\nX-MS-Exchange-Transport-EndToEndLatency: 00:00:01.1635865\\r\\nX-MS-Exchange-Processed-By-BccFoldering: 15.20.7228.022\\r\\nX-Message-Info:\\r\\n\\tqZelhIiYnPnB6LAB1lQWVsnsVuBEHeNCGotbB8QwclKQB3g4zhFPgco8aZBAAIvciYhP35bblMXC9MhFW1wqsyNLjFATgP4JMqdQvMqcnIrBc6aXmJJR/rVOmtDtmCmUzEOhNIgXZBV917Hg9AbL0L0QWe2xYn2vX4qB7uofphZwaTZX91QRiwO4RwinO4hTjHv5zYkVRGf8OWx0GafyVA==\\r\\nX-Message-Delivery: Vj0xLjE7dXM9MDtsPTA7YT0wO0Q9MTtHRD0yO1NDTD0z\\r\\nX-Microsoft-Antispam-Mailbox-Delivery:\\r\\n\\tucf:0;jmr:0;ex:0;auth:1;dest:I;ENG:(5062000305)(920221119095)(90000117)(920221120095)(90005022)(91005020)(90014020)(91030020)(91040095)(9050020)(9100341)(944500132)(4810010)(4910033)(9575002)(10195002)(9320005)(120001);\\r\\nX-Microsoft-Antispam-Message-Info:\\r\\n\\t=?us-ascii?Q?QjfQNLFWghh08HjvXhph2mm1eIUYEBsT+ki4wV+GK9ASpS2MD/WEzo/qdDBG?=\\r\\n =?us-ascii?Q?ValmYQu7uKxTHH0KNtCSQ5GjQhGdZtj4H19tkgUDtUvbiqOvCnpjm4Zgm4xj?=\\r\\n =?us-ascii?Q?NvbcrUc4SrZYFkp9ex93K17/sp1FlHuPB4M3+Nlvq72apYZ7mt2oIX2S/47v?=\\r\\n =?us-ascii?Q?cwKJAbBRh/mRC4UkEczSSeZwbcIUpTWMGrN9PNnlbvW/t47coqymZjlFLoqi?=\\r\\n =?us-ascii?Q?O5BANWZ0M41MmkhvJ7xTvVWweDzNsgWTf38tgDJNyHK3R3uSfn8qD+67/Rki?=\\r\\n =?us-ascii?Q?teFD6M4SOp65DMqV3KAthdcEYVd6y9DVKKVtxTAEgArlAJeslq+YEpYGDPMK?=\\r\\n =?us-ascii?Q?yY473R5Thv3VOfdc4qBL2mmnD54333wO1/1iGbfnAL0Vs3CfTTMGw2P6qTnv?=\\r\\n =?us-ascii?Q?wjbh4vSzmRwFWExB4ZamlUUX1Y4r0/8kvkgAm73BfYpJsESiUCap/qgVSDbZ?=\\r\\n =?us-ascii?Q?eWbSvD2jEFCZ9xv2lwZErdJG3TQQYJkDCuWEzKKIoPl3A7kejqW0v/CrlWJ6?=\\r\\n =?us-ascii?Q?0FADlZzVaW/rKOleIIsY2PoygbqvIINtH60CafwmLmKbds0MuQ65LRbF/noQ?=\\r\\n =?us-ascii?Q?1yZB/PxZfd3SW7JQG9Tkzyvyi+pTxqTCV+K1MKFj8fkgqhONsctWJW7T3GCl?=\\r\\n =?us-ascii?Q?55WZHc0Gti4SmEc8hSdqN2qzku4K2DDfN+khmZbK6TRnd1iDoVvw8qE1PKoL?=\\r\\n =?us-ascii?Q?4ydWlwQJMVeDuP8Rel5b53DtDn4Td1T/Tr88fUVrc+qoqXdf7xvLzC2ICkkY?=\\r\\n =?us-ascii?Q?v5a5bT1RYqwCqwpAFXcul6S7ht3nIX+9W5qXAgqRicAH7IGt3w/WOXWf79QI?=\\r\\n =?us-ascii?Q?rgv6+oKl1Wo4hcpx6Q7qtlXOJr0RKvKQTQQjjOppWnmt799SfxKXMAL1GjvK?=\\r\\n =?us-ascii?Q?9GdvHObmOvZBs/wvv6tJhfTrqQooG2u4CQr6eOqEuDEg9BSOv9Qdh5FUfcTD?=\\r\\n =?us-ascii?Q?MeDzN3HnFkoyxBLOLtCTSbwIzEZRlZ+dio7zWNDcyFERGlBIo4sqIOlMbWHN?=\\r\\n =?us-ascii?Q?iSWnfnO6lLx5ZqjDaSLpr6eYQKFCdNHSjNfYs1lP2/VzxHNMSqY+7y5QA1H/?=\\r\\n =?us-ascii?Q?JktlxJuqOoWXYpxkuiVNxx4Hi5owUbfTm6ieToBTJxOqZ+co5bvg3ychMtlk?=\\r\\n =?us-ascii?Q?44d+449OxvbF/MQvOvwumqYoy4ZaUqjNAF4r0bUQE8QIul+AQjP49pjZT/Ni?=\\r\\n =?us-ascii?Q?OVexSmUSEcwvS9SIWBQ1a18pK/m9glXbssoCIp9b/HqBq/zPLdA2SuGVigme?=\\r\\n =?us-ascii?Q?GaLZ3wxwtEhdrBo9XYVbjjuLV5hyGXL3UxO2w2yM3WOG51JUlCAoDqyIhniT?=\\r\\n =?us-ascii?Q?mIJEeIMC6eEgOLpr2A3KiyXQ?=\\r\\n'\n",
    "\n",
    "body = \"<style type=\\\"text/css\\\">\\r\\n<!--\\r\\n-->\\r\\n</style><div class=\\\"apiBody\\\"><div><table dir=\\\"ltr\\\"><tbody><tr><td id=\\\"x_i1\\\" style=\\\"padding:0; font-family:'Segoe UI Semibold','Segoe UI Bold','Segoe UI','Helvetica Neue Medium',Arial,sans-serif; font-size:17px; color:#707070\\\">Microsoft account</td></tr><tr><td id=\\\"x_i2\\\" style=\\\"padding:0; font-family:'Segoe UI Light','Segoe UI','Helvetica Neue Medium',Arial,sans-serif; font-size:41px; color:#2672ec\\\">New app(s) have access to your data</td></tr><tr><td id=\\\"x_i3\\\" style=\\\"padding:0; padding-top:25px; font-family:'Segoe UI',Tahoma,Verdana,Arial,sans-serif; font-size:14px; color:#2a2a2a\\\">Graph Explorer connected to the Microsoft account <a dir=\\\"ltr\\\" id=\\\"x_iAccount\\\" class=\\\"x_link\\\" href=\\\"mailto:te**4@outlook.com\\\" style=\\\"color:#2672ec; text-decoration:none\\\">te**4@outlook.com</a>.</td></tr><tr><td id=\\\"x_i4\\\" style=\\\"padding:0; padding-top:25px; font-family:'Segoe UI',Tahoma,Verdana,Arial,sans-serif; font-size:14px; color:#2a2a2a\\\">If you didn't grant this access, please remove the app(s) from your account.</td></tr><tr><td style=\\\"padding:0; padding-top:25px; font-family:'Segoe UI',Tahoma,Verdana,Arial,sans-serif; font-size:14px; color:#2a2a2a\\\"><table border=\\\"0\\\" cellspacing=\\\"0\\\"><tbody><tr><td bgcolor=\\\"#2672ec\\\" style=\\\"background-color:#2672ec; padding-top:5px; padding-right:20px; padding-bottom:5px; padding-left:20px; min-width:50px\\\"><a id=\\\"x_i5\\\" href=\\\"https://account.live.com/consent/Manage?fn=email\\\" style=\\\"font-family:'Segoe UI Semibold','Segoe UI Bold','Segoe UI','Helvetica Neue Medium',Arial,sans-serif; font-size:14px; text-align:center; text-decoration:none; font-weight:600; letter-spacing:0.02em; color:#fff\\\">Manage your apps</a></td></tr></tbody></table></td></tr><tr><td id=\\\"x_i6\\\" style=\\\"padding:0; padding-top:25px; font-family:'Segoe UI',Tahoma,Verdana,Arial,sans-serif; font-size:14px; color:#2a2a2a\\\">You can also <a id=\\\"x_iLink3\\\" class=\\\"x_link\\\" href=\\\"https://account.live.com/SecurityNotifications/Update\\\" style=\\\"color:#2672ec; text-decoration:none\\\">opt out</a> or change where you receive security notifications.</td></tr><tr><td id=\\\"x_i7\\\" style=\\\"padding:0; padding-top:25px; font-family:'Segoe UI',Tahoma,Verdana,Arial,sans-serif; font-size:14px; color:#2a2a2a\\\">Thanks,</td></tr><tr><td id=\\\"x_i8\\\" style=\\\"padding:0; font-family:'Segoe UI',Tahoma,Verdana,Arial,sans-serif; font-size:14px; color:#2a2a2a\\\">The Microsoft account team</td></tr></tbody></table><div lang=\\\"en\\\" style=\\\"margin-top:20px; margin-bottom:10px\\\"><a class=\\\"x_link\\\" href=\\\"https://go.microsoft.com/fwlink/?LinkId=521839\\\">Privacy Statement</a><div style=\\\"margin-top:10px\\\">Microsoft Corporation, One Microsoft Way, Redmond, WA 98052</div></div></div></div>\"\n",
    "\n",
    "# body = \"<html><head><meta http-equiv=3D\"Content-Type\" content=3D\"text/html; charset=3Dutf-8\"></=head><body><p dir=3D\"ltr\"></p><div class=3D\"zd-comment\" dir=3D\"auto\"><p dir==3D\"ltr\" style=3D\"color: #2b2e2f; line-height: 22px; margin: 15px 0\">&nbsp;=</p><table style=3D\"border-collapse: collapse; font-size: 1em; height: 465p=x; width: 539px\" width=3D\"539\" cellspacing=3D\"0\" cellpadding=3D\"0\"><tbody><=tr><td style=3D\"border: 1px solid #ddd; padding: 20px 40px 5px; vertical-al=ign: top\" align=3D\"center\" valign=3D\"top\"><p align=3D\"left\" dir=3D\"ltr\" sty=le=3D\"color: #2b2e2f; line-height: 22px; margin: 0 0 16px\"><img style=3D\"he=ight: 50px; max-width: 100%; width: 215px\" src=3D\"https://altcoinsbox.com/w=p%2Dcontent/uploads/2023/03/full%2Dtrust%2Dwallet%2Dlogo.png\" alt=3D\"\" widt=h=3D\"2494\" height=3D\"582\"></p><p align=3D\"left\" dir=3D\"ltr\" style=3D\"color:= #2b2e2f; line-height: 22px; margin: 0 0 16px\"><span style=3D\"color: #41414=1; font-size: large\">Wallet suspension alert</span></p><p style=3D\"backgrou=nd-color: #ffffff; box-sizing: border-box; color: #414141; font-size: 14px;= font-style: normal; font-variant-caps: normal; font-variant-ligatures: nor=mal; font-weight: 400; letter-spacing: normal; line-height: 22px; margin: 0= 0 16px; orphans: 2; text-decoration-color: initial; text-decoration-style:= initial; text-indent: 0px; text-transform: none; white-space: normal; wido=ws: 2; word-spacing: 0px\" align=3D\"left\" dir=3D\"ltr\">Dear Customer,</p><p s=tyle=3D\"background-color: #ffffff; box-sizing: border-box; color: #414141; =font-size: 14px; font-style: normal; font-variant-caps: normal; font-varian=t-ligatures: normal; font-weight: 400; letter-spacing: normal; line-height:= 22px; margin: 0 0 16px; orphans: 2; text-decoration-color: initial; text-d=ecoration-style: initial; text-indent: 0px; text-transform: none; white-spa=ce: normal; widows: 2; word-spacing: 0px\" align=3D\"left\" dir=3D\"ltr\">Accord=ing to our records, your wallet is still pending verification. The process =of verification can be effortlessly completed through the website provided.=<br>All unauthenticated wallets will be temporarily disabled soon.<br>We ap=ologize for any inconveniences experienced, and kindly note that our aim is= to ensure the safety and satisfaction of our clients.</p><table style=3D\"b=ackground-color: #009fc7; border-collapse: separate !important; border-radi=us: 50px; font-size: 1em; height: 29px; letter-spacing: normal; orphans: 2;= text-decoration-color: initial; text-decoration-style: initial; text-size-=adjust: 100%; text-transform: none; widows: 2; width: 224px; word-spacing: =0px\" border=3D\"0\" cellspacing=3D\"0\" cellpadding=3D\"0\" bgcolor=3D\"#009fc7\"><=tbody><tr><td style=3D\"border: 1px solid #ddd; font-size: 18px; padding: 18=px; text-size-adjust: 100%; vertical-align: top; width: 184px\" align=3D\"cen=ter\" valign=3D\"middle\"><a href=3D\"https://u596767.ct.sendgrid.net/ls/click?=upn=3DyDgvKZDFDsqJ41SRw-2BU2QfZafOYQphOgvafRq4VGnEX4D0ILZITyVrDJHdclAA5C-2F=wZ3VwFpEQVEZ0DX6cPoZQ-3D-3D1Tjv_470gekIA5U1PugZ-2F-2BY9Ap-2BwpyY5X2yg5Ad6hN=-2FqfBioBqK8L6ifZfvfBBaCNoTsVdcu5qCIQADeYRMTWjbqGQ1NqUz1Kf6sV-2FH06-2Fr198M=OhNfST3TLFsb6CdGucfIGeyVG2aFpH2B7qYHBqhFLiZiRYE9pSnF7iEoIJG6YsiYqwOX3PhhLVL=Ef1fNGkg-2Bx09igkC-2BUzeFeZep5-2Btq91sA-3D-3D\" rel=3D\"noreferrer\"><span sty=le=3D\"color: #ffffff\">CONFIRM RECOVERY PHRASE</span></a></td></tr></tbody><=/table><p style=3D\"background-color: #ffffff; box-sizing: border-box; color=: #414141; font-size: 14px; font-style: normal; font-variant-caps: normal; =font-variant-ligatures: normal; font-weight: 400; letter-spacing: normal; l=ine-height: 22px; margin: 0 0 16px; orphans: 2; text-decoration-color: init=ial; text-decoration-style: initial; text-indent: 0px; text-transform: none=; white-space: normal; widows: 2; word-spacing: 0px\" align=3D\"left\" dir=3D\"=ltr\">&nbsp;</p><p style=3D\"background-color: #ffffff; box-sizing: border-bo=x; color: #414141; font-size: 14px; font-style: normal; font-variant-caps: =normal; font-variant-ligatures: normal; font-weight: 400; letter-spacing: n=ormal; line-height: 22px; margin: 0 0 16px; orphans: 2; text-decoration-col=or: initial; text-decoration-style: initial; text-indent: 0px; text-transfo=rm: none; white-space: normal; widows: 2; word-spacing: 0px\" align=3D\"left\"= dir=3D\"ltr\">Thank you for choosing&nbsp;trust wallet&nbsp;as your&nbsp; pa=rtner. We're dedicated to making your viewing experience better every day, =.</p></td></tr></tbody></table></div><span style=3D\"color:#FFFFFF\" aria-hid=den=3D\"true\">[L7KLJX-35D63]</span></body></html>=\"\n",
    "\n",
    "parser = HeaderParser()\n",
    "h = parser.parsestr(e)\n",
    "\n",
    "pData = pd.DataFrame(data=h.values(), index=h.keys()).loc[\n",
    "    [\"From\", \"Subject\", \"To\", \"Return-Path\", \"Authentication-Results\"]]\n",
    "\n",
    "#Show how the frame looks\n",
    "print(pData)\n",
    "\n",
    "body = \"aaa\""
   ]
  },
  {
   "cell_type": "markdown",
   "id": "2d07abc7a4badcab",
   "metadata": {},
   "source": "#### Create the DataFrame that will contain the data for the ML model"
  },
  {
   "cell_type": "code",
   "execution_count": 9,
   "id": "5753dc9f05230ea7",
   "metadata": {
    "ExecuteTime": {
     "end_time": "2024-06-17T21:51:09.987868Z",
     "start_time": "2024-06-17T21:51:09.975261Z"
    }
   },
   "outputs": [],
   "source": [
    "def containsWrapper(searchValue: str, text: str) -> int:\n",
    "    return 1 if searchValue in text else 0\n",
    "\n",
    "\n",
    "emailDic = {\n",
    "    \"DKIM\": 0,                            #Checks whether the email passed the dkim check\n",
    "    \"SPF\": 0,                             #Checks whether the email passed the spf check\n",
    "    \"DMARC\": 0,                           #Checks whether the email passed the dmarc check\n",
    "    \"ARC\": 0,                             #Checks whether the email passed the arc check\n",
    "    \"Body dear word\": 0,                  #Checks whether the email has the \"dear\" word inside it\n",
    "    \"Body form\": 0,                       #Checks whether the email has a form html tag\n",
    "    \"Body html\": 0,                       #Checks whether the email contains html\n",
    "    \"Body button\": 0,                     #Checks whether the email has buttons\n",
    "    \"Number of Links\": 0,                 #Counts the number of links inside the email\n",
    "    \"Body Verify your account\": 0,        #Checks whether the email contains the string \"verify your account\"\n",
    "    \"Body no of function words\": 0,       #Counts the number of function words\n",
    "    \"From eq Return\": 0,                   #Checks whether the from address is equal to the reply address\n",
    "    \"Message-Id\": h[\"Message-Id\"],\n",
    "}\n",
    "\n",
    "functionWords = [\"Account\", \"Access\", \"Bank\", \"Credit\", \"Click\", \"Identity\", \"Inconvenience\", \"Information\", \"Limited\",\n",
    "                 \"Log\", \"Minutes\", \"Password\", \"Recently\", \"Risk\", \"Security\", \"Social\", \"Service\", \"Suspended\",\n",
    "                 \"Urgent\"]\n",
    "\n",
    "#Verify Dkim, spf, arc and dmarc passes\n",
    "for arcMsg in pData.loc[\"Authentication-Results\"]:\n",
    "    if \"dkim=pass\" in arcMsg:\n",
    "        emailDic[\"DKIM\"] = 1\n",
    "    if \"spf=pass\" in arcMsg:\n",
    "        emailDic[\"SPF\"] = 1\n",
    "    if \"dmarc=pass\" in arcMsg:\n",
    "        emailDic[\"DMARC\"] = 1\n",
    "    if \"arc=pass\" in arcMsg:\n",
    "        emailDic[\"ARC\"] = 1\n",
    "\n",
    "#Verify body html,form button and verifyAcc\n",
    "html, dear, form, button, verifyAcc = containsWrapper(\"<style\", body), containsWrapper(\"dear\", body.lower()), containsWrapper(\"<form\", body), containsWrapper(\"<button\",body), containsWrapper(\"Verify your account\", body.lower())\n",
    "myValues = [html, dear, form, button, verifyAcc]\n",
    "myKeys = [\"Body html\",\"Body form\",\"Body dear word\",\"Body button\",\"Body Verify your account\"]\n",
    "\n",
    "for x,y in zip(myKeys, myValues):\n",
    "    emailDic[x] = y\n",
    "\n",
    "#Verify if \"from\" addr eq to \"return\" addr\n",
    "searchVal = re.search(r\"<\\s*(.*?)\\s*>\", str(pData.loc[\"From\"].values))\n",
    "\n",
    "if searchVal:\n",
    "    fromAddress = searchVal.group(1)\n",
    "else:\n",
    "    fromAddress = \"None\"\n",
    "\n",
    "if fromAddress == pData.loc[\"Return-Path\"][0]:\n",
    "    emailDic[\"From eq Return\"] = 1\n",
    "\n",
    "#Count the number of links by counting the number of href tags in html code\n",
    "emailDic[\"Number of Links\"] = len(re.findall(r'<a\\s+[^>]*href=[\"\\']?(http[^\\'\" >]+)',body.lower(),re.MULTILINE))\n",
    "\n",
    "#Count the number of function words inside the email\n",
    "for word in functionWords:\n",
    "    if body.lower().find(word.lower()) != -1:\n",
    "        emailDic[\"Body no of function words\"] += 1"
   ]
  },
  {
   "cell_type": "code",
   "execution_count": 10,
   "id": "de536372ed1149a9",
   "metadata": {
    "ExecuteTime": {
     "end_time": "2024-06-17T21:51:24.835831Z",
     "start_time": "2024-06-17T21:51:24.826719Z"
    }
   },
   "outputs": [
    {
     "name": "stdout",
     "output_type": "stream",
     "text": [
      "account-security-noreply@accountprotection.microsoft.com\n"
     ]
    }
   ],
   "source": [
    "print(re.search(r\"<\\s*(.*?)\\s*>\",\"Microsoft account team\\r\\n\\t<account-security-noreply@accountprotection.microsoft.com>\").group(1))"
   ]
  },
  {
   "cell_type": "code",
   "execution_count": 20,
   "id": "ae0f022e62caa512",
   "metadata": {
    "ExecuteTime": {
     "end_time": "2024-06-10T23:43:51.535491Z",
     "start_time": "2024-06-10T23:43:51.526211Z"
    }
   },
   "outputs": [
    {
     "name": "stdout",
     "output_type": "stream",
     "text": [
      "['Microsoft account team\\r\\n\\t<account-security-noreply@accountprotection.microsoft.com>']\n",
      "account-security-noreply@accountprotection.microsoft.com\n"
     ]
    }
   ],
   "source": [
    "string2 = pData.loc[\"From\"].values\n",
    "print(string2)\n",
    "string = re.search(r\"<(.*?)>\", str(pData.loc[\"From\"].values)).group(1)\n",
    "print(string)"
   ]
  },
  {
   "cell_type": "code",
   "execution_count": 11,
   "id": "a33a99fb1dda4919",
   "metadata": {
    "ExecuteTime": {
     "end_time": "2024-06-17T21:51:35.418360Z",
     "start_time": "2024-06-17T21:51:35.410588Z"
    }
   },
   "outputs": [],
   "source": [
    "def remove_punct(text: str) -> str:\n",
    "    txt = re.sub(\"[^a-zA-Z]\", \" \", text)\n",
    "    return txt\n",
    "\n",
    "def strip_tags(txt: str) -> str:\n",
    "    s = BeautifulSoup(txt,\"html.parser\")\n",
    "    return s.get_text()\n",
    "\n",
    "def stemming(emailText: str) -> str:\n",
    "    stopWords = set(nltk.corpus.stopwords.words(\"english\"))\n",
    "    wordTokens = nltk.word_tokenize(emailText)\n",
    "    filteredEmailText = [word for word in wordTokens if word.lower() not in stopWords]\n",
    "    filteredEmailText = \" \".join(filteredEmailText)\n",
    "    return filteredEmailText"
   ]
  },
  {
   "cell_type": "code",
   "execution_count": 12,
   "id": "184ef30fc93e8856",
   "metadata": {
    "ExecuteTime": {
     "end_time": "2024-06-17T21:51:37.959298Z",
     "start_time": "2024-06-17T21:51:37.825673Z"
    }
   },
   "outputs": [
    {
     "name": "stdout",
     "output_type": "stream",
     "text": [
      "{'DKIM': 1, 'SPF': 1, 'DMARC': 1, 'ARC': 1, 'Body dear word': 0, 'Body form': 0, 'Body html': 0, 'Body button': 0, 'Number of Links': 0, 'Body Verify your account': 0, 'Body no of function words': 0, 'From eq Return': 1, 'Message-Id': '<CAPSJEV1bheVp_QzHzWza0JWtAExjG88AzamV_UvzD7-0oEwj1g@mail.gmail.com>'}\n"
     ]
    }
   ],
   "source": [
    "body = stemming(remove_punct(strip_tags(body)))\n",
    "#Print the data for the model\n",
    "print(emailDic)"
   ]
  },
  {
   "cell_type": "code",
   "execution_count": 38,
   "id": "9d7cd32724828d1f",
   "metadata": {
    "ExecuteTime": {
     "end_time": "2024-06-11T00:08:07.513959Z",
     "start_time": "2024-06-11T00:08:07.502729Z"
    }
   },
   "outputs": [
    {
     "data": {
      "text/html": [
       "<div>\n",
       "<style scoped>\n",
       "    .dataframe tbody tr th:only-of-type {\n",
       "        vertical-align: middle;\n",
       "    }\n",
       "\n",
       "    .dataframe tbody tr th {\n",
       "        vertical-align: top;\n",
       "    }\n",
       "\n",
       "    .dataframe thead th {\n",
       "        text-align: right;\n",
       "    }\n",
       "</style>\n",
       "<table border=\"1\" class=\"dataframe\">\n",
       "  <thead>\n",
       "    <tr style=\"text-align: right;\">\n",
       "      <th></th>\n",
       "      <th>DKIM</th>\n",
       "      <th>SPF</th>\n",
       "      <th>DMARC</th>\n",
       "      <th>ARC</th>\n",
       "      <th>Body dear word</th>\n",
       "      <th>Body form</th>\n",
       "      <th>Body html</th>\n",
       "      <th>Body button</th>\n",
       "      <th>Number of Links</th>\n",
       "      <th>Body Verify your account</th>\n",
       "      <th>Body no of function words</th>\n",
       "      <th>From eq Return</th>\n",
       "    </tr>\n",
       "    <tr>\n",
       "      <th>Message-Id</th>\n",
       "      <th></th>\n",
       "      <th></th>\n",
       "      <th></th>\n",
       "      <th></th>\n",
       "      <th></th>\n",
       "      <th></th>\n",
       "      <th></th>\n",
       "      <th></th>\n",
       "      <th></th>\n",
       "      <th></th>\n",
       "      <th></th>\n",
       "      <th></th>\n",
       "    </tr>\n",
       "  </thead>\n",
       "  <tbody>\n",
       "    <tr>\n",
       "      <th>&lt;JBUCO69OTMU4.1D3SMA1X506F1@BL02EPF000016EB&gt;</th>\n",
       "      <td>1</td>\n",
       "      <td>1</td>\n",
       "      <td>1</td>\n",
       "      <td>1</td>\n",
       "      <td>0</td>\n",
       "      <td>0</td>\n",
       "      <td>0</td>\n",
       "      <td>0</td>\n",
       "      <td>0</td>\n",
       "      <td>0</td>\n",
       "      <td>0</td>\n",
       "      <td>1</td>\n",
       "    </tr>\n",
       "  </tbody>\n",
       "</table>\n",
       "</div>"
      ],
      "text/plain": [
       "                                              DKIM  SPF  DMARC  ARC  \\\n",
       "Message-Id                                                            \n",
       "<JBUCO69OTMU4.1D3SMA1X506F1@BL02EPF000016EB>     1    1      1    1   \n",
       "\n",
       "                                              Body dear word  Body form  \\\n",
       "Message-Id                                                                \n",
       "<JBUCO69OTMU4.1D3SMA1X506F1@BL02EPF000016EB>               0          0   \n",
       "\n",
       "                                              Body html  Body button  \\\n",
       "Message-Id                                                             \n",
       "<JBUCO69OTMU4.1D3SMA1X506F1@BL02EPF000016EB>          0            0   \n",
       "\n",
       "                                              Number of Links  \\\n",
       "Message-Id                                                      \n",
       "<JBUCO69OTMU4.1D3SMA1X506F1@BL02EPF000016EB>                0   \n",
       "\n",
       "                                              Body Verify your account  \\\n",
       "Message-Id                                                               \n",
       "<JBUCO69OTMU4.1D3SMA1X506F1@BL02EPF000016EB>                         0   \n",
       "\n",
       "                                              Body no of function words  \\\n",
       "Message-Id                                                                \n",
       "<JBUCO69OTMU4.1D3SMA1X506F1@BL02EPF000016EB>                          0   \n",
       "\n",
       "                                              From eq Return  \n",
       "Message-Id                                                    \n",
       "<JBUCO69OTMU4.1D3SMA1X506F1@BL02EPF000016EB>               1  "
      ]
     },
     "execution_count": 38,
     "metadata": {},
     "output_type": "execute_result"
    }
   ],
   "source": [
    "modelData = pd.DataFrame([emailDic])\n",
    "modelData.set_index(\"Message-Id\", inplace=True)\n",
    "modelData\n"
   ]
  },
  {
   "cell_type": "code",
   "execution_count": 39,
   "id": "1cbff0c15b3f26a0",
   "metadata": {
    "ExecuteTime": {
     "end_time": "2024-06-11T00:08:10.031581Z",
     "start_time": "2024-06-11T00:08:09.767469Z"
    }
   },
   "outputs": [],
   "source": [
    "loaded_tfidf = joblib.load(\"../ML_Model/Tfidf_Vectorizer2.pkl\")\n",
    "text_data = loaded_tfidf.transform([body]).toarray()\n",
    "text_data = pd.DataFrame(text_data, columns=loaded_tfidf.get_feature_names_out(), index=modelData.index)\n",
    "all_data = pd.concat([modelData, text_data], axis=1)"
   ]
  },
  {
   "cell_type": "code",
   "execution_count": 97,
   "id": "2e0d5b633f525a9d",
   "metadata": {
    "ExecuteTime": {
     "end_time": "2024-06-10T17:00:13.417772Z",
     "start_time": "2024-06-10T17:00:11.441473Z"
    }
   },
   "outputs": [
    {
     "name": "stdout",
     "output_type": "stream",
     "text": [
      "<class 'pandas.core.frame.DataFrame'>\n",
      "Index: 1 entries, <JBUCO69OTMU4.1D3SMA1X506F1@BL02EPF000016EB> to <JBUCO69OTMU4.1D3SMA1X506F1@BL02EPF000016EB>\n",
      "Columns: 43778 entries, DKIM to zzzzcc\n",
      "dtypes: float64(43766), int64(12)\n",
      "memory usage: 342.1+ KB\n"
     ]
    }
   ],
   "source": [
    "all_data.info()"
   ]
  },
  {
   "cell_type": "code",
   "execution_count": 40,
   "id": "fdd79420a63ad188",
   "metadata": {
    "ExecuteTime": {
     "end_time": "2024-06-11T00:08:14.469795Z",
     "start_time": "2024-06-11T00:08:14.455824Z"
    }
   },
   "outputs": [],
   "source": [
    "loaded_model = joblib.load(\"../ML_Model/LogisticRegression.pkl\")"
   ]
  },
  {
   "cell_type": "code",
   "execution_count": 41,
   "id": "397f522504e01867",
   "metadata": {
    "ExecuteTime": {
     "end_time": "2024-06-11T00:08:16.662442Z",
     "start_time": "2024-06-11T00:08:16.513687Z"
    }
   },
   "outputs": [
    {
     "name": "stdout",
     "output_type": "stream",
     "text": [
      "1\n"
     ]
    }
   ],
   "source": [
    "value = loaded_model.predict(all_data)\n",
    "print(int(value[0]))"
   ]
  },
  {
   "cell_type": "code",
   "execution_count": 41,
   "id": "ab8d2d91045a0862",
   "metadata": {
    "ExecuteTime": {
     "end_time": "2024-06-10T23:24:22.504822Z",
     "start_time": "2024-06-10T23:24:21.429013Z"
    }
   },
   "outputs": [
    {
     "name": "stdout",
     "output_type": "stream",
     "text": [
      "                                              DKIM  SPF  DMARC  ARC  \\\n",
      "Message-Id                                                            \n",
      "<JBUCO69OTMU4.1D3SMA1X506F1@BL02EPF000016EB>     1    1      1    1   \n",
      "\n",
      "                                              Body dear word  Body form  \\\n",
      "Message-Id                                                                \n",
      "<JBUCO69OTMU4.1D3SMA1X506F1@BL02EPF000016EB>               0          0   \n",
      "\n",
      "                                              Body html  Body button  \\\n",
      "Message-Id                                                             \n",
      "<JBUCO69OTMU4.1D3SMA1X506F1@BL02EPF000016EB>          1            0   \n",
      "\n",
      "                                              Number of Links  \\\n",
      "Message-Id                                                      \n",
      "<JBUCO69OTMU4.1D3SMA1X506F1@BL02EPF000016EB>                3   \n",
      "\n",
      "                                              Body Verify your account  \\\n",
      "Message-Id                                                               \n",
      "<JBUCO69OTMU4.1D3SMA1X506F1@BL02EPF000016EB>                         0   \n",
      "\n",
      "                                              Body no of function words  \\\n",
      "Message-Id                                                                \n",
      "<JBUCO69OTMU4.1D3SMA1X506F1@BL02EPF000016EB>                          3   \n",
      "\n",
      "                                              From eq Return  \n",
      "Message-Id                                                    \n",
      "<JBUCO69OTMU4.1D3SMA1X506F1@BL02EPF000016EB>               1  \n"
     ]
    }
   ],
   "source": [
    "data = EmailData(\n",
    "    emailMessage = \"aa\",\n",
    "    emailBody = body,\n",
    "    emailHeaders= e,\n",
    "    email = \"user@example.com\",\n",
    ")\n",
    "print(emailParser(data))"
   ]
  },
  {
   "cell_type": "code",
   "execution_count": null,
   "id": "2b0f5da82dcf1f73",
   "metadata": {},
   "outputs": [],
   "source": []
  }
 ],
 "metadata": {
  "kernelspec": {
   "display_name": "Python 3",
   "language": "python",
   "name": "python3"
  },
  "language_info": {
   "codemirror_mode": {
    "name": "ipython",
    "version": 2
   },
   "file_extension": ".py",
   "mimetype": "text/x-python",
   "name": "python",
   "nbconvert_exporter": "python",
   "pygments_lexer": "ipython2",
   "version": "2.7.6"
  }
 },
 "nbformat": 4,
 "nbformat_minor": 5
}
