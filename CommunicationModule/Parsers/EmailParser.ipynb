{
 "cells": [
  {
   "metadata": {},
   "cell_type": "markdown",
   "source": "#### Imported necessary libraries",
   "id": "49422c567f458d6b"
  },
  {
   "cell_type": "code",
   "id": "initial_id",
   "metadata": {
    "collapsed": true,
    "ExecuteTime": {
     "end_time": "2024-06-11T00:04:28.029934Z",
     "start_time": "2024-06-11T00:04:27.984809Z"
    }
   },
   "source": [
    "from email.parser import HeaderParser\n",
    "import nltk\n",
    "import pandas as pd\n",
    "import re\n",
    "from bs4 import BeautifulSoup\n",
    "import joblib\n",
    "from Parsers.EmailParser import emailParser\n",
    "from DTO.EmailData import EmailData"
   ],
   "outputs": [],
   "execution_count": 21
  },
  {
   "metadata": {},
   "cell_type": "markdown",
   "source": "#### Pandas ENV Variables",
   "id": "bb952ef91d4bdf24"
  },
  {
   "metadata": {
    "ExecuteTime": {
     "end_time": "2024-06-10T23:13:36.512814Z",
     "start_time": "2024-06-10T23:13:36.507593Z"
    }
   },
   "cell_type": "code",
   "source": "pd.set_option('display.max_colwidth', 200)",
   "id": "8ecabc603618c721",
   "outputs": [],
   "execution_count": 17
  },
  {
   "metadata": {},
   "cell_type": "markdown",
   "source": "#### Transform the email headers from string to pandas DataFrame",
   "id": "84f6daff3a88fca8"
  },
  {
   "metadata": {
    "ExecuteTime": {
     "end_time": "2024-06-11T00:07:40.436513Z",
     "start_time": "2024-06-11T00:07:40.416350Z"
    }
   },
   "cell_type": "code",
   "source": [
    "e = \"Received: from VE1P189MB0912.EURP189.PROD.OUTLOOK.COM (2603:10a6:800:168::7)\\r\\n by DB9P189MB1833.EURP189.PROD.OUTLOOK.COM with HTTPS; Wed, 17 Apr 2024\\r\\n 21:14:17 +0000\\r\\nARC-Seal: i=2; a=rsa-sha256; s=arcselector9901; d=microsoft.com; cv=pass;\\r\\n b=QiiUpCUxiYQt7wwfUkXzSejgljRvjg511A8L6Q3p2BIRRmThBfBFgakHe6dS4zD9Qkl2/qu+oZqJms6QaWsdi1ffkB3X4f0MPtqldJopmYKJ/HsaDR8eFVKFYHkTohYEeWfllhIWK+fdrTDjUbLojrWtafSR3ytLsLAJTi5KciVZT0z5oD015o1oFHbmYL060I1ojcSviuBiHKFo4Ko/u4UCXJ2cUjB7vBDnWWes85r2DxMxC0pby8WUxzJJxaKx/66keTrSwEwwZZ2vrzSeiow/7nNd2U1nEqPRKPJoWpefxMG+Fu90bNUCPM6ZTh//v+vAHZHboG7kR6z460a4Mw==\\r\\nARC-Message-Signature: i=2; a=rsa-sha256; c=relaxed/relaxed; d=microsoft.com;\\r\\n s=arcselector9901;\\r\\n h=From:Date:Subject:Message-ID:Content-Type:MIME-Version:X-MS-Exchange-AntiSpam-MessageData-ChunkCount:X-MS-Exchange-AntiSpam-MessageData-0:X-MS-Exchange-AntiSpam-MessageData-1;\\r\\n bh=vpcJS4kYx3N/+N8BliNOZvIzek/Wd7EQ7+oUE/R4FzU=;\\r\\n b=Iw8U1ldH7df+0d1dOQXYxwZOOE3IN+Gg2PEwjwcdZl1eHPFY9vEWaE0YtsJZJ3OYOFegjQ/kTmpx/AGoN++0KG+hcCAHm//otkX61BOmsBYx+NjUFtYUcWzNKWIoNX2sqx4Z6RT6yrLnoSntneao1gQlDCAdhDWSo8HgUKM17uBRIbse+ukt1OvLKjfQXI0M+S7qA8JqE0igISllZGrK8I4T8Wh2kqDOi555nff7VqvfrvIdqud7CfRLZQ7gtugequgx5KhDszKFDq9VE7ohuYRg78aT6ylkM2YFdErAfjDAU/PAocMy9aiDxma7Y+g+tAnbvBGnCdjXziyGOYwM6Q==\\r\\nARC-Authentication-Results: i=2; mx.microsoft.com 1; spf=pass (sender ip is\\r\\n 40.107.243.115) smtp.rcpttodomain=outlook.com\\r\\n smtp.mailfrom=accountprotection.microsoft.com; dmarc=pass (p=reject sp=reject\\r\\n pct=100) action=none header.from=accountprotection.microsoft.com; dkim=pass\\r\\n (signature was verified) header.d=accountprotection.microsoft.com; arc=pass\\r\\n (0 oda=0 ltdi=1)\\r\\nReceived: from DU2PR04CA0344.eurprd04.prod.outlook.com (2603:10a6:10:2b4::17)\\r\\n by VE1P189MB0912.EURP189.PROD.OUTLOOK.COM (2603:10a6:800:168::7) with\\r\\n Microsoft SMTP Server (version=TLS1_2,\\r\\n cipher=TLS_ECDHE_RSA_WITH_AES_256_GCM_SHA384) id 15.20.7472.39; Wed, 17 Apr\\r\\n 2024 21:14:16 +0000\\r\\nReceived: from DB3PEPF00008859.eurprd02.prod.outlook.com\\r\\n (2603:10a6:10:2b4:cafe::4d) by DU2PR04CA0344.outlook.office365.com\\r\\n (2603:10a6:10:2b4::17) with Microsoft SMTP Server (version=TLS1_2,\\r\\n cipher=TLS_ECDHE_RSA_WITH_AES_256_GCM_SHA384) id 15.20.7495.26 via Frontend\\r\\n Transport; Wed, 17 Apr 2024 21:14:15 +0000\\r\\nAuthentication-Results: spf=pass (sender IP is 40.107.243.115)\\r\\n smtp.mailfrom=accountprotection.microsoft.com; dkim=pass (signature was\\r\\n verified) header.d=accountprotection.microsoft.com;dmarc=pass action=none\\r\\n header.from=accountprotection.microsoft.com;compauth=pass reason=100\\r\\nReceived-SPF: Pass (protection.outlook.com: domain of\\r\\n accountprotection.microsoft.com designates 40.107.243.115 as permitted\\r\\n sender) receiver=protection.outlook.com; client-ip=40.107.243.115;\\r\\n helo=NAM12-DM6-obe.outbound.protection.outlook.com; pr=C\\r\\nReceived: from NAM12-DM6-obe.outbound.protection.outlook.com (40.107.243.115)\\r\\n by DB3PEPF00008859.mail.protection.outlook.com (10.167.242.4) with Microsoft\\r\\n SMTP Server (version=TLS1_2, cipher=TLS_ECDHE_RSA_WITH_AES_256_GCM_SHA384) id\\r\\n 15.20.7452.22 via Frontend Transport; Wed, 17 Apr 2024 21:14:15 +0000\\r\\nX-IncomingTopHeaderMarker:\\r\\n OriginalChecksum:17C72A35C7BA048A8D732BA3BC196E22E4E6F7D9BE2C4618FC94C1A25F41009C;UpperCasedChecksum:88EF6AF15B7F00A8192C591A5F3A4B4A1625524FA798D39CA554755E747E58AF;SizeAsReceived:6304;Count:38\\r\\nARC-Seal: i=1; a=rsa-sha256; s=arcselector9901; d=microsoft.com; cv=none;\\r\\n b=i5xa+eh5Chfli9gpOG2KxKk4TRIjENWLZfzqigmFAaiNyihxSIOgH469BneVxvzA5EyaLCgdqzVMvDjCNt64agSznebOisr/dmjbW22Gn3ybjdp5Kidmgn/JSboYWy2sSiIbNeqIwZF5eMY8pyImG8kEXLNoHroJvL2+V4FyT7suDmYxpOY0Yzlcf9aO2yPKGdhQJnQnS6QPoPUCkxrmSAmUvXdJu44vq5PN1cO+gdg/7ek2HRTwZBBrNYTX2SQxkea5HERmdbW3XU2Qca5GOF3jkejfqB5yZu8QHGtnO5Ays9DVbGQvvHfUBoPxqZXHXHiIx8ch2377LwUyVwHWmQ==\\r\\nARC-Message-Signature: i=1; a=rsa-sha256; c=relaxed/relaxed; d=microsoft.com;\\r\\n s=arcselector9901;\\r\\n h=From:Date:Subject:Message-ID:Content-Type:MIME-Version:X-MS-Exchange-AntiSpam-MessageData-ChunkCount:X-MS-Exchange-AntiSpam-MessageData-0:X-MS-Exchange-AntiSpam-MessageData-1;\\r\\n bh=vpcJS4kYx3N/+N8BliNOZvIzek/Wd7EQ7+oUE/R4FzU=;\\r\\n b=ccP1Bc2vmlbDls884xO/buS5NNC6m1ansopbrTEbqBiGCQ4wTTZa4fKZw8hyjyahLieCIwBnuPBDg5OH7FbGvm/7EsxSRN/VBoPDAUwfhkxfHK/t8h7XgSzW0vwzRnYYHjOxNhdQDnurwRPsSIiHO+P9gVNIryegzv/ntMev7R0nvGAqr6MYYinsWUTey2pPQQ1OMQFqVBv+xu/pbmMNXVtpfzIPGsFpXq/VQdaJyDl/Vule+C0GrKcfN7xpoQA3fv3PzXZJN6HfvqI3bj3JOiKelAMvcViFA49VSTx02cGNKjj6hotv7XzKOk01KtrHgw5YOFHgQC1XlUkFJClRBg==\\r\\nARC-Authentication-Results: i=1; mx.microsoft.com 1; spf=none; dmarc=none\\r\\n action=none header.from=accountprotection.microsoft.com; dkim=none (message\\r\\n not signed); arc=none\\r\\nDKIM-Signature: v=1; a=rsa-sha256; c=relaxed/relaxed;\\r\\n d=accountprotection.microsoft.com; s=selector1;\\r\\n h=From:Date:Subject:Message-ID:Content-Type:MIME-Version:X-MS-Exchange-SenderADCheck;\\r\\n bh=vpcJS4kYx3N/+N8BliNOZvIzek/Wd7EQ7+oUE/R4FzU=;\\r\\n b=n2boFIGxQp50TJHT1PTfJyLOh8Elhu/HuM/tx5birFgzyg961nKhWCYo6ToxvLA9eozs2PJq//XL4STwzMmThYAWO03nM46xk35H7Grj5haSupj2+guzREKVS1K3v+SAqA8rwZHkoyfKn+EdJZ4NgqrzPTIrmsRBYo9Jqo5sskg=\\r\\nReceived: from CH2PR07CA0040.namprd07.prod.outlook.com (2603:10b6:610:5b::14)\\r\\n by LV8PR16MB6218.namprd16.prod.outlook.com (2603:10b6:408:1cf::16) with\\r\\n Microsoft SMTP Server (version=TLS1_2,\\r\\n cipher=TLS_ECDHE_RSA_WITH_AES_256_GCM_SHA384) id 15.20.7472.39; Wed, 17 Apr\\r\\n 2024 21:14:14 +0000\\r\\nReceived: from CH2PEPF0000009A.namprd02.prod.outlook.com\\r\\n (2603:10b6:610:5b:cafe::3b) by CH2PR07CA0040.outlook.office365.com\\r\\n (2603:10b6:610:5b::14) with Microsoft SMTP Server (version=TLS1_2,\\r\\n cipher=TLS_ECDHE_RSA_WITH_AES_256_GCM_SHA384) id 15.20.7472.33 via Frontend\\r\\n Transport; Wed, 17 Apr 2024 21:14:14 +0000\\r\\nX-MS-Exchange-Authentication-Results: spf=none (sender IP is 52.188.222.33)\\r\\n smtp.mailfrom=accountprotection.microsoft.com; dkim=none (message not signed)\\r\\n header.d=none;dmarc=none action=none\\r\\n header.from=accountprotection.microsoft.com;\\r\\nReceived: from accountprotection.microsoft.com (52.188.222.33) by\\r\\n CH2PEPF0000009A.mail.protection.outlook.com (10.167.244.22) with Microsoft\\r\\n SMTP Server (version=TLS1_2, cipher=TLS_ECDHE_RSA_WITH_AES_256_GCM_SHA384) id\\r\\n 15.20.7452.22 via Frontend Transport; Wed, 17 Apr 2024 21:14:14 +0000\\r\\nFrom: Microsoft account team\\r\\n\\t<account-security-noreply@accountprotection.microsoft.com>\\r\\nDate: Wed, 17 Apr 2024 14:14:13 -0700\\r\\nSubject: New app(s) connected to your Microsoft account\\r\\nTo: testaddin2024@outlook.com\\r\\nX-Priority: 3\\r\\nX-MSAPipeline: MessageDispatcherEOP\\r\\nMessage-ID: <JBUCO69OTMU4.1D3SMA1X506F1@BL02EPF000016EB>\\r\\nX-MSAMetaData:\\r\\n =?us-ascii?q?DpWQFOjMoVrMlU7bG57UhdEOpdlQbCYyV88VlLpa!oGS3rZat9TMFbtCtchtr?=\\r\\n =?us-ascii?q?aarUNSXKleIBoWpUQJ5SsORhqby3V4qcTDdLOWwe2sy475XW8AEgE0JbNGMNB?=\\r\\n =?us-ascii?q?6Cd4DFRA$$?=\\r\\nMIME-Version: 1.0\\r\\nContent-Type: multipart/alternative; boundary=\\\"=-r3iB+mxalPL1yojUv8860w==\\\"\\r\\nReturn-Path: account-security-noreply@accountprotection.microsoft.com\\r\\nX-MS-TrafficTypeDiagnostic:\\r\\n CH2PEPF0000009A:EE_FirstParty-MicrosoftAccount-V3-System|LV8PR16MB6218:EE_FirstParty-MicrosoftAccount-V3-System|DB3PEPF00008859:EE_|VE1P189MB0912:EE_|DB9P189MB1833:EE_\\r\\nX-MS-Office365-Filtering-Correlation-Id: f433591a-1c99-46ef-0c2d-08dc5f235676\\r\\nX-MS-Exchange-SenderADCheck: 1\\r\\nX-MS-Exchange-AntiSpam-Relay: 0\\r\\nX-Microsoft-Antispam-Untrusted: BCL:0;\\r\\nX-Microsoft-Antispam-Message-Info-Original:\\r\\n HV9N/mIdKhXYUPElCUeTVqHIRaM4POPfvK4Z1qV8eH6ezeGjhaZ7R8Klr2gCIYxysni/l5NECu5kgQEX42F4m8W+9WqH9dcPvDF/eoJLvrbcxByWDbZhOISD2IkFoj8YJsZ/mEA0xyeBFN1LK0vzm4UfsE0t/VJR0PGCQ1/+MIH2jqZ4asYqZtqf+iQQ0Zqku0UXPgtVAYKj5X8Nlj5O11KWaV43Ov7QEZmUe/vLWv/uLTpmUX9InBq3fXbjlpaJF6F+YICByZZ9LC3nT7crJ8cJseT1G0G6Wn/B7Ve8JZYQysifEgVqXq/6TfXLu6PKImW1pK4DDhTo+iMLpQw1muttHjqf8UvBLgOChdVWSc5pdutNMgupjaO0Zjx6xy8ljyRhwCQlDedHqikTCcG2tJ4q+g3sLJ2RxSsQaKgCfoBhBbYp9zqaGRSAh8R80gMdzj8f/ITBh9LfkJjl4GI25oq30pUK2w6SYG2mpEqWm5zvSswexJc0ekYajlMcxKb9dPH5lY8fbF7itFdrR07Ul3jw1/5uLCWOwaT0xeqvLY+4SX5WUnA1uPYl+oAKpjKbZPf6vGaVmKmYlS0+ES9A9rC23wP8qFJoE4aIhj7OZpxqmuLxcel5q/fdN0nPld9Gf2cP3XNnsUVRvclyePh/HAyJx/jNb7o+Wp10u/nkvspXz5H45MllMuYaMN1iVioE6AdY4IA1yZg2PSrPNjsnQ7R907N924XvH+Ko0BIKYUhPyzu6p5qVPBtdZ+p9y2zC\\r\\nX-Forefront-Antispam-Report-Untrusted:\\r\\n CIP:52.188.222.33;CTRY:US;LANG:en;SCL:1;SRV:;IPV:NLI;SFV:NSPM;H:accountprotection.microsoft.com;PTR:messagedispatchervip.MSAEAP-Prod-BL02P.BL02P.ap.gbl;CAT:NONE;SFS:(13230031)(376005)(61400799018);DIR:OUT;SFP:1102;\\r\\nX-MS-Exchange-AntiSpam-MessageData-Original-ChunkCount: 1\\r\\nX-MS-Exchange-AntiSpam-MessageData-Original-0:\\r\\n 0yx5Wt6vJM4CYZqk15P3Y4qW8P8qzXFXUbkgh6xoxeG7zVGNg0tAvcxjeAzhgbI1u+D2Ipu3W9C+uPNndaVSRhbMrQRxQC1Hq5InZV4GIeMU5GBd772dPyEbFxXazEA9GswcON4anzkbKLqM52uDKPn1pRMmGsp357KqNubi2yczIcwyrhBULHC3+U3kBoFeG0Ja5MeRVxmYCEE2PeAgIVR3cG2iudcP2rxIMg43avsLkqZ4LxLgMgD7iANp0prWHRFASAu20ihU5B/RfSfEZPk+Sk82V/YNhVLxdfwsaGVef/o0Uc56oY9x2DWGrTDM6hmeqOBDbYJBiIDBCWL4ExHF15DZ8u1RruHmVzHeKn/1h1BOJOsNHNqlG93iTrBSeZtHVCod83Vs7iqJsk31pBuDvbY44b1yWUHo9QZVCzoa1bqpynntaNqVweWJcq9teZswUfJFWmMLgHGaVKKZz8J1oGMjt89O5Tb2IoyFgHlx0uTIMUmke7ElO+5nrMsoHlw5Ohrj1JovYVFl6CqTLA==\\r\\nX-MS-Exchange-Transport-CrossTenantHeadersStamped: LV8PR16MB6218\\r\\nX-IncomingHeaderCount: 38\\r\\nX-MS-Exchange-Organization-ExpirationStartTime: 17 Apr 2024 21:14:15.8838\\r\\n (UTC)\\r\\nX-MS-Exchange-Organization-ExpirationStartTimeReason: OriginalSubmit\\r\\nX-MS-Exchange-Organization-ExpirationInterval: 1:00:00:00.0000000\\r\\nX-MS-Exchange-Organization-ExpirationIntervalReason: OriginalSubmit\\r\\nX-MS-Exchange-Organization-Network-Message-Id:\\r\\n f433591a-1c99-46ef-0c2d-08dc5f235676\\r\\nX-EOPAttributedMessage: 0\\r\\nX-EOPTenantAttributedMessage: 84df9e7f-e9f6-40af-b435-aaaaaaaaaaaa:0\\r\\nX-MS-Exchange-Organization-MessageDirectionality: Incoming\\r\\nX-MS-Exchange-Transport-CrossTenantHeadersStripped:\\r\\n DB3PEPF00008859.eurprd02.prod.outlook.com\\r\\nX-MS-Exchange-Transport-CrossTenantHeadersPromoted:\\r\\n DB3PEPF00008859.eurprd02.prod.outlook.com\\r\\nX-MS-PublicTrafficType: Email\\r\\nX-MS-Exchange-Organization-AuthSource:\\r\\n DB3PEPF00008859.eurprd02.prod.outlook.com\\r\\nX-MS-Exchange-Organization-AuthAs: Anonymous\\r\\nX-MS-UserLastLogonTime: 4/17/2024 9:13:05 PM\\r\\nX-MS-Office365-Filtering-Correlation-Id-Prvs:\\r\\n 5cbd8751-9983-4892-3ce1-08dc5f23556d\\r\\nX-MS-Exchange-EOPDirect: true\\r\\nX-Sender-IP: 40.107.243.115\\r\\nX-SID-PRA: ACCOUNT-SECURITY-NOREPLY@ACCOUNTPROTECTION.MICROSOFT.COM\\r\\nX-SID-Result: PASS\\r\\nX-MS-Exchange-Organization-PCL: 2\\r\\nX-MS-Exchange-Organization-SCL: 1\\r\\nX-Microsoft-Antispam: BCL:2;\\r\\nX-MS-Exchange-CrossTenant-OriginalArrivalTime: 17 Apr 2024 21:14:15.7432\\r\\n (UTC)\\r\\nX-MS-Exchange-CrossTenant-Network-Message-Id: f433591a-1c99-46ef-0c2d-08dc5f235676\\r\\nX-MS-Exchange-CrossTenant-Id: 84df9e7f-e9f6-40af-b435-aaaaaaaaaaaa\\r\\nX-MS-Exchange-CrossTenant-OriginalAttributedTenantConnectingIp: TenantId=5ba90553-c2cd-460e-b5fd-ab93ad9155c7;Ip=[52.188.222.33];Helo=[accountprotection.microsoft.com]\\r\\nX-MS-Exchange-CrossTenant-AuthSource:\\r\\n DB3PEPF00008859.eurprd02.prod.outlook.com\\r\\nX-MS-Exchange-CrossTenant-AuthAs: Anonymous\\r\\nX-MS-Exchange-CrossTenant-FromEntityHeader: Internet\\r\\nX-MS-Exchange-CrossTenant-RMS-PersistedConsumerOrg:\\r\\n 00000000-0000-0000-0000-000000000000\\r\\nX-MS-Exchange-Transport-CrossTenantHeadersStamped: VE1P189MB0912\\r\\nX-MS-Exchange-Transport-EndToEndLatency: 00:00:01.3081534\\r\\nX-MS-Exchange-Processed-By-BccFoldering: 15.20.7452.029\\r\\nX-Message-Info:\\r\\n\\tqZelhIiYnPnnjsbBf6asGz6sLW/nE8VmwLFBaXurAfZe3ppWmkedikChkUc8tpabFLoTgl9+ydPtdcuAFcU/dDsjCKsSXhGlqo7XzxR9Zv184nT47cZGragnw0Y4W2X/NKG9C0z/4g2qV8Pz8WMAM85nxbRSHzy7/CKqdLR3YH55YZ8MjKQeuU+BOVOXKvswfvTmTthmY5c=\\r\\nX-Message-Delivery: Vj0xLjE7dXM9MDtsPTA7YT0xO0Q9MTtHRD0xO1NDTD0z\\r\\nX-Microsoft-Antispam-Mailbox-Delivery:\\r\\n\\tucf:0;jmr:0;ex:0;auth:1;dest:I;ENG:(5062000305)(920221119095)(90000117)(920221120095)(90012020)(91020020)(91040095)(9050020)(9100341)(944500132)(4810010)(4910033)(9575002)(10195002)(9320005)(120001);\\r\\nX-Microsoft-Antispam-Message-Info:\\r\\n\\t=?us-ascii?Q?fq1NnuRZljvxQCPlkgVih8faufrUDZf0438WQXUfc493ayvow+ed0f3slYko?=\\r\\n =?us-ascii?Q?xlUCs8/oh0rlEZgnapYxkVzw3j4uJjiG3fzG9zsQc7KukeGkTDhIHHWI2JVJ?=\\r\\n =?us-ascii?Q?3fHa9cIAJSmH2/dxoZsi03wdkKdycOYKWLRRSvnYCi+fe2el/PMXHCeZXm4Z?=\\r\\n =?us-ascii?Q?0FnXp/Cqw8Pa9EgjrjFdI230B15dTjY7Wjl9OVkwANXj/us8nH0GzlTNY+IT?=\\r\\n =?us-ascii?Q?MSUCgoHQcIId1s8kjBcTa1jv8BSPIhy5sArMQ5RFv24+pltFAnnCno1iPrUA?=\\r\\n =?us-ascii?Q?rMfLOI6647j7fj/CEUwcfB9ZyAVSQv4FJLKuM/JxrFZc36gGm+WIBAXiAouW?=\\r\\n =?us-ascii?Q?F2PWKCWaMU/qsyiBnwuSBWnEWh/6h3kBQRfU9K0AOlCvcL08ViZhUX4Np2WT?=\\r\\n =?us-ascii?Q?IcNw42A4Y0JQwRQukQhtNrUZv95OZTS0Nc34rh4Zr+XqylZ6Ke5lu+jN3Nii?=\\r\\n =?us-ascii?Q?B0lBi4drd33DwZY5728Lh2JLjg9zWiiL5Xl66s5sS+9qHAKgasCbZdC306QX?=\\r\\n =?us-ascii?Q?SsU6A8W8+195zUBt4yDagImfLeXZpeAzOvxWZjvdE3/pXg6fL4GbxicvJL6s?=\\r\\n =?us-ascii?Q?6woURnoFWIc3CggZ8470qmVjD4wnVi0EJzLY+SVuK8E33CZ9jLJ6ttn86dLe?=\\r\\n =?us-ascii?Q?vK2Hs4tl3RlBTTPRNeJQkLX7Pc1cQEROyUpFOhfZlsRlQGqF/8mfQ6Q+pJd2?=\\r\\n =?us-ascii?Q?7JefOSBS3Y9thQbWKTtFJiY9l76KPFH78qyY11FR8Z5/Aoq8j4CTjOcEb/rS?=\\r\\n =?us-ascii?Q?q0BccDtwnjTzrX/KRIG5ondHo+HDxRGQ6S4icZ6zDc3r2fTfT3YP0EQFi+mG?=\\r\\n =?us-ascii?Q?YRSCrJa11yOAZiJJhcoGzQFh63lmpPO2UVU4tINOq/ZgVVdUaDwioCouwGgy?=\\r\\n =?us-ascii?Q?kYun+P3/VO54q2ZYgAITMCsRWb9xXafPSwoknbZbIo68Uhg+Q97IM/9WcaKk?=\\r\\n =?us-ascii?Q?t0muvxS8clgjoY6sGpFuMoP15L3olgEjsdxeeyVKfcQrWHSQ6jPsEy7DSDkG?=\\r\\n =?us-ascii?Q?y0LizEyOtNj1pPDecyGHm9oNmylYu7UERXu6HIP5iU83nXB5eX9LPfwDofJS?=\\r\\n =?us-ascii?Q?OsdI3QdqJPE3tKvn/6tvcg6KP4zmb6Y+2XJEac+7/iKRN2VG2WbnSDf5X6H3?=\\r\\n =?us-ascii?Q?v5nV8wV0XpK9UVe75uPC4+fFx4COrxPMso/OtpX+V7V8tA3VsaEG9/y2P/7/?=\\r\\n =?us-ascii?Q?MTcs/N6EKrWw1jOgAlGs7KaAFoSkSddJZ+vjG+wCZRc209GdsH582FtySdQS?=\\r\\n =?us-ascii?Q?xyA52svI3ltsNHteu1wEhfUc4MhFo8cfabNDfnPkLVO3e+KLfz1Al4ufkCfA?=\\r\\n =?us-ascii?Q?HYZBc+gMGzdmrRr8m109GKM+YfKaGrRRPBNCpViBPx82O0Dtvc+YeQkFkkyv?=\\r\\n =?us-ascii?Q?5cBeds/a7NX127ofErRIFEcO/EAkSfP79/LcI/mJ/W7UJSshxF8Wzh29+Ifu?=\\r\\n =?us-ascii?Q?+gUjf69KVuSXlHCi4O9JYNrxxany/N7hjeoJFAEPgJC+xeUE43nASOe4dGX8?=\\r\\n =?us-ascii?Q?hLaTaMftZ6i/wl0LnJuYh2m5gJOi4Qt7l6cMjt+vdEil/KMdXa+4R7tSm+6x?=\\r\\n =?us-ascii?Q?uaquIERsSNnlH4cVFsi9MNGVSJogqrcC8YCShjfeJaxEXnurRDNzqUW2LrCN?=\\r\\n =?us-ascii?Q?6CFcSnC6nMqNnzjysVSxVqX/9fQZfK8kmLqAMcDiJ+CvvfkZrqrhBT1DH8RF?=\\r\\n =?us-ascii?Q?BRLA6UoUW8mheTGbEiYLPHf6DUOpjJxmuen/Jy4capTs/evo9cft3Cumizyb?=\\r\\n =?us-ascii?Q?NJx9ykEIx+e64mjPLC7gs086ZjDzd+0=3D?=\\r\\n\"\n",
    "\n",
    "body = \"<style type=\\\"text/css\\\">\\r\\n<!--\\r\\n-->\\r\\n</style><div class=\\\"apiBody\\\"><div><table dir=\\\"ltr\\\"><tbody><tr><td id=\\\"x_i1\\\" style=\\\"padding:0; font-family:'Segoe UI Semibold','Segoe UI Bold','Segoe UI','Helvetica Neue Medium',Arial,sans-serif; font-size:17px; color:#707070\\\">Microsoft account</td></tr><tr><td id=\\\"x_i2\\\" style=\\\"padding:0; font-family:'Segoe UI Light','Segoe UI','Helvetica Neue Medium',Arial,sans-serif; font-size:41px; color:#2672ec\\\">New app(s) have access to your data</td></tr><tr><td id=\\\"x_i3\\\" style=\\\"padding:0; padding-top:25px; font-family:'Segoe UI',Tahoma,Verdana,Arial,sans-serif; font-size:14px; color:#2a2a2a\\\">Graph Explorer connected to the Microsoft account <a dir=\\\"ltr\\\" id=\\\"x_iAccount\\\" class=\\\"x_link\\\" href=\\\"mailto:te**4@outlook.com\\\" style=\\\"color:#2672ec; text-decoration:none\\\">te**4@outlook.com</a>.</td></tr><tr><td id=\\\"x_i4\\\" style=\\\"padding:0; padding-top:25px; font-family:'Segoe UI',Tahoma,Verdana,Arial,sans-serif; font-size:14px; color:#2a2a2a\\\">If you didn't grant this access, please remove the app(s) from your account.</td></tr><tr><td style=\\\"padding:0; padding-top:25px; font-family:'Segoe UI',Tahoma,Verdana,Arial,sans-serif; font-size:14px; color:#2a2a2a\\\"><table border=\\\"0\\\" cellspacing=\\\"0\\\"><tbody><tr><td bgcolor=\\\"#2672ec\\\" style=\\\"background-color:#2672ec; padding-top:5px; padding-right:20px; padding-bottom:5px; padding-left:20px; min-width:50px\\\"><a id=\\\"x_i5\\\" href=\\\"https://account.live.com/consent/Manage?fn=email\\\" style=\\\"font-family:'Segoe UI Semibold','Segoe UI Bold','Segoe UI','Helvetica Neue Medium',Arial,sans-serif; font-size:14px; text-align:center; text-decoration:none; font-weight:600; letter-spacing:0.02em; color:#fff\\\">Manage your apps</a></td></tr></tbody></table></td></tr><tr><td id=\\\"x_i6\\\" style=\\\"padding:0; padding-top:25px; font-family:'Segoe UI',Tahoma,Verdana,Arial,sans-serif; font-size:14px; color:#2a2a2a\\\">You can also <a id=\\\"x_iLink3\\\" class=\\\"x_link\\\" href=\\\"https://account.live.com/SecurityNotifications/Update\\\" style=\\\"color:#2672ec; text-decoration:none\\\">opt out</a> or change where you receive security notifications.</td></tr><tr><td id=\\\"x_i7\\\" style=\\\"padding:0; padding-top:25px; font-family:'Segoe UI',Tahoma,Verdana,Arial,sans-serif; font-size:14px; color:#2a2a2a\\\">Thanks,</td></tr><tr><td id=\\\"x_i8\\\" style=\\\"padding:0; font-family:'Segoe UI',Tahoma,Verdana,Arial,sans-serif; font-size:14px; color:#2a2a2a\\\">The Microsoft account team</td></tr></tbody></table><div lang=\\\"en\\\" style=\\\"margin-top:20px; margin-bottom:10px\\\"><a class=\\\"x_link\\\" href=\\\"https://go.microsoft.com/fwlink/?LinkId=521839\\\">Privacy Statement</a><div style=\\\"margin-top:10px\\\">Microsoft Corporation, One Microsoft Way, Redmond, WA 98052</div></div></div></div>\"\n",
    "\n",
    "# body = \"<html><head><meta http-equiv=3D\"Content-Type\" content=3D\"text/html; charset=3Dutf-8\"></=head><body><p dir=3D\"ltr\"></p><div class=3D\"zd-comment\" dir=3D\"auto\"><p dir==3D\"ltr\" style=3D\"color: #2b2e2f; line-height: 22px; margin: 15px 0\">&nbsp;=</p><table style=3D\"border-collapse: collapse; font-size: 1em; height: 465p=x; width: 539px\" width=3D\"539\" cellspacing=3D\"0\" cellpadding=3D\"0\"><tbody><=tr><td style=3D\"border: 1px solid #ddd; padding: 20px 40px 5px; vertical-al=ign: top\" align=3D\"center\" valign=3D\"top\"><p align=3D\"left\" dir=3D\"ltr\" sty=le=3D\"color: #2b2e2f; line-height: 22px; margin: 0 0 16px\"><img style=3D\"he=ight: 50px; max-width: 100%; width: 215px\" src=3D\"https://altcoinsbox.com/w=p%2Dcontent/uploads/2023/03/full%2Dtrust%2Dwallet%2Dlogo.png\" alt=3D\"\" widt=h=3D\"2494\" height=3D\"582\"></p><p align=3D\"left\" dir=3D\"ltr\" style=3D\"color:= #2b2e2f; line-height: 22px; margin: 0 0 16px\"><span style=3D\"color: #41414=1; font-size: large\">Wallet suspension alert</span></p><p style=3D\"backgrou=nd-color: #ffffff; box-sizing: border-box; color: #414141; font-size: 14px;= font-style: normal; font-variant-caps: normal; font-variant-ligatures: nor=mal; font-weight: 400; letter-spacing: normal; line-height: 22px; margin: 0= 0 16px; orphans: 2; text-decoration-color: initial; text-decoration-style:= initial; text-indent: 0px; text-transform: none; white-space: normal; wido=ws: 2; word-spacing: 0px\" align=3D\"left\" dir=3D\"ltr\">Dear Customer,</p><p s=tyle=3D\"background-color: #ffffff; box-sizing: border-box; color: #414141; =font-size: 14px; font-style: normal; font-variant-caps: normal; font-varian=t-ligatures: normal; font-weight: 400; letter-spacing: normal; line-height:= 22px; margin: 0 0 16px; orphans: 2; text-decoration-color: initial; text-d=ecoration-style: initial; text-indent: 0px; text-transform: none; white-spa=ce: normal; widows: 2; word-spacing: 0px\" align=3D\"left\" dir=3D\"ltr\">Accord=ing to our records, your wallet is still pending verification. The process =of verification can be effortlessly completed through the website provided.=<br>All unauthenticated wallets will be temporarily disabled soon.<br>We ap=ologize for any inconveniences experienced, and kindly note that our aim is= to ensure the safety and satisfaction of our clients.</p><table style=3D\"b=ackground-color: #009fc7; border-collapse: separate !important; border-radi=us: 50px; font-size: 1em; height: 29px; letter-spacing: normal; orphans: 2;= text-decoration-color: initial; text-decoration-style: initial; text-size-=adjust: 100%; text-transform: none; widows: 2; width: 224px; word-spacing: =0px\" border=3D\"0\" cellspacing=3D\"0\" cellpadding=3D\"0\" bgcolor=3D\"#009fc7\"><=tbody><tr><td style=3D\"border: 1px solid #ddd; font-size: 18px; padding: 18=px; text-size-adjust: 100%; vertical-align: top; width: 184px\" align=3D\"cen=ter\" valign=3D\"middle\"><a href=3D\"https://u596767.ct.sendgrid.net/ls/click?=upn=3DyDgvKZDFDsqJ41SRw-2BU2QfZafOYQphOgvafRq4VGnEX4D0ILZITyVrDJHdclAA5C-2F=wZ3VwFpEQVEZ0DX6cPoZQ-3D-3D1Tjv_470gekIA5U1PugZ-2F-2BY9Ap-2BwpyY5X2yg5Ad6hN=-2FqfBioBqK8L6ifZfvfBBaCNoTsVdcu5qCIQADeYRMTWjbqGQ1NqUz1Kf6sV-2FH06-2Fr198M=OhNfST3TLFsb6CdGucfIGeyVG2aFpH2B7qYHBqhFLiZiRYE9pSnF7iEoIJG6YsiYqwOX3PhhLVL=Ef1fNGkg-2Bx09igkC-2BUzeFeZep5-2Btq91sA-3D-3D\" rel=3D\"noreferrer\"><span sty=le=3D\"color: #ffffff\">CONFIRM RECOVERY PHRASE</span></a></td></tr></tbody><=/table><p style=3D\"background-color: #ffffff; box-sizing: border-box; color=: #414141; font-size: 14px; font-style: normal; font-variant-caps: normal; =font-variant-ligatures: normal; font-weight: 400; letter-spacing: normal; l=ine-height: 22px; margin: 0 0 16px; orphans: 2; text-decoration-color: init=ial; text-decoration-style: initial; text-indent: 0px; text-transform: none=; white-space: normal; widows: 2; word-spacing: 0px\" align=3D\"left\" dir=3D\"=ltr\">&nbsp;</p><p style=3D\"background-color: #ffffff; box-sizing: border-bo=x; color: #414141; font-size: 14px; font-style: normal; font-variant-caps: =normal; font-variant-ligatures: normal; font-weight: 400; letter-spacing: n=ormal; line-height: 22px; margin: 0 0 16px; orphans: 2; text-decoration-col=or: initial; text-decoration-style: initial; text-indent: 0px; text-transfo=rm: none; white-space: normal; widows: 2; word-spacing: 0px\" align=3D\"left\"= dir=3D\"ltr\">Thank you for choosing&nbsp;trust wallet&nbsp;as your&nbsp; pa=rtner. We're dedicated to making your viewing experience better every day, =.</p></td></tr></tbody></table></div><span style=3D\"color:#FFFFFF\" aria-hid=den=3D\"true\">[L7KLJX-35D63]</span></body></html>=\"\n",
    "\n",
    "parser = HeaderParser()\n",
    "h = parser.parsestr(e)\n",
    "\n",
    "pData = pd.DataFrame(data=h.values(), index=h.keys()).loc[\n",
    "    [\"From\", \"Subject\", \"To\", \"Return-Path\", \"ARC-Authentication-Results\"]]\n",
    "\n",
    "#Show how the frame looks\n",
    "print(pData)\n",
    "\n",
    "body = \"aaa\""
   ],
   "id": "c2716c6f884a398b",
   "outputs": [
    {
     "name": "stdout",
     "output_type": "stream",
     "text": [
      "                                                                            0\n",
      "From                        Microsoft account team\\r\\n\\t<account-security-...\n",
      "Subject                        New app(s) connected to your Microsoft account\n",
      "To                                                  testaddin2024@outlook.com\n",
      "Return-Path                 account-security-noreply@accountprotection.mic...\n",
      "ARC-Authentication-Results  i=2; mx.microsoft.com 1; spf=pass (sender ip i...\n",
      "ARC-Authentication-Results  i=1; mx.microsoft.com 1; spf=none; dmarc=none\\...\n"
     ]
    }
   ],
   "execution_count": 33
  },
  {
   "metadata": {},
   "cell_type": "markdown",
   "source": "#### Create the DataFrame that will contain the data for the ML model",
   "id": "2d07abc7a4badcab"
  },
  {
   "metadata": {
    "ExecuteTime": {
     "end_time": "2024-06-11T00:07:44.639948Z",
     "start_time": "2024-06-11T00:07:44.628881Z"
    }
   },
   "cell_type": "code",
   "source": [
    "def containsWrapper(searchValue: str, text: str) -> int:\n",
    "    return 1 if searchValue in text else 0\n",
    "\n",
    "\n",
    "emailDic = {\n",
    "    \"DKIM\": 0,                            #Checks whether the email passed the dkim check\n",
    "    \"SPF\": 0,                             #Checks whether the email passed the spf check\n",
    "    \"DMARC\": 0,                           #Checks whether the email passed the dmarc check\n",
    "    \"ARC\": 0,                             #Checks whether the email passed the arc check\n",
    "    \"Body dear word\": 0,                  #Checks whether the email has the \"dear\" word inside it\n",
    "    \"Body form\": 0,                       #Checks whether the email has a form html tag \n",
    "    \"Body html\": 0,                       #Checks whether the email contains html\n",
    "    \"Body button\": 0,                     #Checks whether the email has buttons\n",
    "    \"Number of Links\": 0,                 #Counts the number of links inside the email\n",
    "    \"Body Verify your account\": 0,        #Checks whether the email contains the string \"verify your account\"\n",
    "    \"Body no of function words\": 0,       #Counts the number of function words\n",
    "    \"From eq Return\": 0,                   #Checks whether the from address is equal to the reply address\n",
    "    \"Message-Id\": h[\"Message-Id\"]\n",
    "}\n",
    "\n",
    "functionWords = [\"Account\", \"Access\", \"Bank\", \"Credit\", \"Click\", \"Identity\", \"Inconvenience\", \"Information\", \"Limited\",\n",
    "                 \"Log\", \"Minutes\", \"Password\", \"Recently\", \"Risk\", \"Security\", \"Social\", \"Service\", \"Suspended\",\n",
    "                 \"Urgent\"]\n",
    "\n",
    "#Verify Dkim, spf, arc and dmarc passes\n",
    "for index, arcMsg in pData.loc[\"ARC-Authentication-Results\"].iterrows():\n",
    "    if \"dkim=pass\" in arcMsg[0]:\n",
    "        emailDic[\"DKIM\"] = 1\n",
    "    if \"spf=pass\" in arcMsg[0]:\n",
    "        emailDic[\"SPF\"] = 1\n",
    "    if \"dmarc=pass\" in arcMsg[0]:\n",
    "        emailDic[\"DMARC\"] = 1\n",
    "    if \"arc=pass\" in arcMsg[0]:\n",
    "        emailDic[\"ARC\"] = 1\n",
    "        \n",
    "#Verify body html,form button and verifyAcc        \n",
    "html, dear, form, button, verifyAcc = containsWrapper(\"<style\", body), containsWrapper(\"dear\", body.lower()), containsWrapper(\"<form\", body), containsWrapper(\"<button\",body), containsWrapper(\"Verify your account\", body.lower())\n",
    "myValues = [html, dear, form, button, verifyAcc]\n",
    "myKeys = [\"Body html\",\"Body form\",\"Body dear word\",\"Body button\",\"Body Verify your account\"]\n",
    "\n",
    "for x,y in zip(myKeys, myValues):\n",
    "    emailDic[x] = y\n",
    "\n",
    "#Verify if \"from\" addr eq to \"return\" addr\n",
    "searchVal = re.search(r'<\\s*(.*?)\\s*>', str(pData.loc[\"From\"].values))\n",
    "\n",
    "if searchVal:\n",
    "    fromAddress = searchVal.group(1)\n",
    "else:\n",
    "    fromAddress = \"None\"\n",
    "    \n",
    "if fromAddress == pData.loc[\"Return-Path\"][0]:\n",
    "    emailDic[\"From eq Return\"] = 1\n",
    "\n",
    "#Count the number of links by counting the number of href tags in html code\n",
    "emailDic[\"Number of Links\"] = len(re.findall(r'<a\\s+[^>]*href=[\"\\']?(http[^\\'\" >]+)',body.lower(),re.M))\n",
    "\n",
    "#Count the number of function words inside the email\n",
    "for word in functionWords:\n",
    "    if body.lower().find(word.lower()) != -1:\n",
    "        emailDic[\"Body no of function words\"] += 1"
   ],
   "id": "5753dc9f05230ea7",
   "outputs": [],
   "execution_count": 34
  },
  {
   "metadata": {
    "ExecuteTime": {
     "end_time": "2024-06-10T23:26:06.265858Z",
     "start_time": "2024-06-10T23:26:06.261279Z"
    }
   },
   "cell_type": "code",
   "source": "print(re.search(r'<\\s*(.*?)\\s*>',\"Microsoft account team\\r\\n\\t<account-security-noreply@accountprotection.microsoft.com>\").group(1))",
   "id": "de536372ed1149a9",
   "outputs": [
    {
     "name": "stdout",
     "output_type": "stream",
     "text": [
      "account-security-noreply@accountprotection.microsoft.com\n"
     ]
    }
   ],
   "execution_count": 42
  },
  {
   "metadata": {
    "ExecuteTime": {
     "end_time": "2024-06-10T23:43:51.535491Z",
     "start_time": "2024-06-10T23:43:51.526211Z"
    }
   },
   "cell_type": "code",
   "source": [
    "string2 = pData.loc[\"From\"].values\n",
    "print(string2)\n",
    "string = re.search(r'<(.*?)>', str(pData.loc[\"From\"].values)).group(1)\n",
    "print(string)"
   ],
   "id": "ae0f022e62caa512",
   "outputs": [
    {
     "name": "stdout",
     "output_type": "stream",
     "text": [
      "['Microsoft account team\\r\\n\\t<account-security-noreply@accountprotection.microsoft.com>']\n",
      "account-security-noreply@accountprotection.microsoft.com\n"
     ]
    }
   ],
   "execution_count": 20
  },
  {
   "metadata": {
    "ExecuteTime": {
     "end_time": "2024-06-11T00:07:57.922050Z",
     "start_time": "2024-06-11T00:07:57.917070Z"
    }
   },
   "cell_type": "code",
   "source": [
    "def remove_punct(text: str) -> str:\n",
    "    txt = re.sub('[^a-zA-Z]', ' ', text)\n",
    "    return txt\n",
    "\n",
    "def strip_tags(txt: str) -> str:\n",
    "    s = BeautifulSoup(txt,'html.parser')\n",
    "    return s.get_text()\n",
    "\n",
    "def stemming(emailText: str) -> str:\n",
    "    stopWords = set(nltk.corpus.stopwords.words('english'))\n",
    "    wordTokens = nltk.word_tokenize(emailText)\n",
    "    filteredEmailText = [word for word in wordTokens if not word.lower() in stopWords]\n",
    "    filteredEmailText = ' '.join(filteredEmailText)\n",
    "    return filteredEmailText"
   ],
   "id": "a33a99fb1dda4919",
   "outputs": [],
   "execution_count": 36
  },
  {
   "metadata": {
    "ExecuteTime": {
     "end_time": "2024-06-11T00:08:01.164157Z",
     "start_time": "2024-06-11T00:08:01.158047Z"
    }
   },
   "cell_type": "code",
   "source": [
    "body = stemming(remove_punct(strip_tags(body)))\n",
    "#Print the data for the model\n",
    "print(emailDic)"
   ],
   "id": "184ef30fc93e8856",
   "outputs": [
    {
     "name": "stdout",
     "output_type": "stream",
     "text": [
      "{'DKIM': 1, 'SPF': 1, 'DMARC': 1, 'ARC': 1, 'Body dear word': 0, 'Body form': 0, 'Body html': 0, 'Body button': 0, 'Number of Links': 0, 'Body Verify your account': 0, 'Body no of function words': 0, 'From eq Return': 1, 'Message-Id': '<JBUCO69OTMU4.1D3SMA1X506F1@BL02EPF000016EB>'}\n"
     ]
    }
   ],
   "execution_count": 37
  },
  {
   "metadata": {
    "ExecuteTime": {
     "end_time": "2024-06-11T00:08:07.513959Z",
     "start_time": "2024-06-11T00:08:07.502729Z"
    }
   },
   "cell_type": "code",
   "source": [
    "modelData = pd.DataFrame([emailDic])\n",
    "modelData.set_index('Message-Id', inplace=True)\n",
    "modelData\n"
   ],
   "id": "9d7cd32724828d1f",
   "outputs": [
    {
     "data": {
      "text/plain": [
       "                                              DKIM  SPF  DMARC  ARC  \\\n",
       "Message-Id                                                            \n",
       "<JBUCO69OTMU4.1D3SMA1X506F1@BL02EPF000016EB>     1    1      1    1   \n",
       "\n",
       "                                              Body dear word  Body form  \\\n",
       "Message-Id                                                                \n",
       "<JBUCO69OTMU4.1D3SMA1X506F1@BL02EPF000016EB>               0          0   \n",
       "\n",
       "                                              Body html  Body button  \\\n",
       "Message-Id                                                             \n",
       "<JBUCO69OTMU4.1D3SMA1X506F1@BL02EPF000016EB>          0            0   \n",
       "\n",
       "                                              Number of Links  \\\n",
       "Message-Id                                                      \n",
       "<JBUCO69OTMU4.1D3SMA1X506F1@BL02EPF000016EB>                0   \n",
       "\n",
       "                                              Body Verify your account  \\\n",
       "Message-Id                                                               \n",
       "<JBUCO69OTMU4.1D3SMA1X506F1@BL02EPF000016EB>                         0   \n",
       "\n",
       "                                              Body no of function words  \\\n",
       "Message-Id                                                                \n",
       "<JBUCO69OTMU4.1D3SMA1X506F1@BL02EPF000016EB>                          0   \n",
       "\n",
       "                                              From eq Return  \n",
       "Message-Id                                                    \n",
       "<JBUCO69OTMU4.1D3SMA1X506F1@BL02EPF000016EB>               1  "
      ],
      "text/html": [
       "<div>\n",
       "<style scoped>\n",
       "    .dataframe tbody tr th:only-of-type {\n",
       "        vertical-align: middle;\n",
       "    }\n",
       "\n",
       "    .dataframe tbody tr th {\n",
       "        vertical-align: top;\n",
       "    }\n",
       "\n",
       "    .dataframe thead th {\n",
       "        text-align: right;\n",
       "    }\n",
       "</style>\n",
       "<table border=\"1\" class=\"dataframe\">\n",
       "  <thead>\n",
       "    <tr style=\"text-align: right;\">\n",
       "      <th></th>\n",
       "      <th>DKIM</th>\n",
       "      <th>SPF</th>\n",
       "      <th>DMARC</th>\n",
       "      <th>ARC</th>\n",
       "      <th>Body dear word</th>\n",
       "      <th>Body form</th>\n",
       "      <th>Body html</th>\n",
       "      <th>Body button</th>\n",
       "      <th>Number of Links</th>\n",
       "      <th>Body Verify your account</th>\n",
       "      <th>Body no of function words</th>\n",
       "      <th>From eq Return</th>\n",
       "    </tr>\n",
       "    <tr>\n",
       "      <th>Message-Id</th>\n",
       "      <th></th>\n",
       "      <th></th>\n",
       "      <th></th>\n",
       "      <th></th>\n",
       "      <th></th>\n",
       "      <th></th>\n",
       "      <th></th>\n",
       "      <th></th>\n",
       "      <th></th>\n",
       "      <th></th>\n",
       "      <th></th>\n",
       "      <th></th>\n",
       "    </tr>\n",
       "  </thead>\n",
       "  <tbody>\n",
       "    <tr>\n",
       "      <th>&lt;JBUCO69OTMU4.1D3SMA1X506F1@BL02EPF000016EB&gt;</th>\n",
       "      <td>1</td>\n",
       "      <td>1</td>\n",
       "      <td>1</td>\n",
       "      <td>1</td>\n",
       "      <td>0</td>\n",
       "      <td>0</td>\n",
       "      <td>0</td>\n",
       "      <td>0</td>\n",
       "      <td>0</td>\n",
       "      <td>0</td>\n",
       "      <td>0</td>\n",
       "      <td>1</td>\n",
       "    </tr>\n",
       "  </tbody>\n",
       "</table>\n",
       "</div>"
      ]
     },
     "execution_count": 38,
     "metadata": {},
     "output_type": "execute_result"
    }
   ],
   "execution_count": 38
  },
  {
   "metadata": {
    "ExecuteTime": {
     "end_time": "2024-06-11T00:08:10.031581Z",
     "start_time": "2024-06-11T00:08:09.767469Z"
    }
   },
   "cell_type": "code",
   "source": [
    "loaded_tfidf = joblib.load('../ML_Model/Tfidf_Vectorizer2.pkl')\n",
    "text_data = loaded_tfidf.transform([body]).toarray()\n",
    "text_data = pd.DataFrame(text_data, columns=loaded_tfidf.get_feature_names_out(), index=modelData.index)\n",
    "all_data = pd.concat([modelData, text_data], axis=1)"
   ],
   "id": "1cbff0c15b3f26a0",
   "outputs": [],
   "execution_count": 39
  },
  {
   "metadata": {
    "ExecuteTime": {
     "end_time": "2024-06-10T17:00:13.417772Z",
     "start_time": "2024-06-10T17:00:11.441473Z"
    }
   },
   "cell_type": "code",
   "source": "all_data.info()",
   "id": "2e0d5b633f525a9d",
   "outputs": [
    {
     "name": "stdout",
     "output_type": "stream",
     "text": [
      "<class 'pandas.core.frame.DataFrame'>\n",
      "Index: 1 entries, <JBUCO69OTMU4.1D3SMA1X506F1@BL02EPF000016EB> to <JBUCO69OTMU4.1D3SMA1X506F1@BL02EPF000016EB>\n",
      "Columns: 43778 entries, DKIM to zzzzcc\n",
      "dtypes: float64(43766), int64(12)\n",
      "memory usage: 342.1+ KB\n"
     ]
    }
   ],
   "execution_count": 97
  },
  {
   "metadata": {
    "ExecuteTime": {
     "end_time": "2024-06-11T00:08:14.469795Z",
     "start_time": "2024-06-11T00:08:14.455824Z"
    }
   },
   "cell_type": "code",
   "source": "loaded_model = joblib.load('../ML_Model/LogisticRegression.pkl')",
   "id": "fdd79420a63ad188",
   "outputs": [],
   "execution_count": 40
  },
  {
   "metadata": {
    "ExecuteTime": {
     "end_time": "2024-06-11T00:08:16.662442Z",
     "start_time": "2024-06-11T00:08:16.513687Z"
    }
   },
   "cell_type": "code",
   "source": [
    "value = loaded_model.predict(all_data)\n",
    "print(int(value[0]))"
   ],
   "id": "397f522504e01867",
   "outputs": [
    {
     "name": "stdout",
     "output_type": "stream",
     "text": [
      "1\n"
     ]
    }
   ],
   "execution_count": 41
  },
  {
   "metadata": {
    "ExecuteTime": {
     "end_time": "2024-06-10T23:24:22.504822Z",
     "start_time": "2024-06-10T23:24:21.429013Z"
    }
   },
   "cell_type": "code",
   "source": [
    "data = EmailData(\n",
    "    emailMessage = \"aa\",\n",
    "    emailBody = body,\n",
    "    emailHeaders= e,\n",
    "    email = \"user@example.com\"\n",
    ")\n",
    "print(emailParser(data))"
   ],
   "id": "ab8d2d91045a0862",
   "outputs": [
    {
     "name": "stdout",
     "output_type": "stream",
     "text": [
      "                                              DKIM  SPF  DMARC  ARC  \\\n",
      "Message-Id                                                            \n",
      "<JBUCO69OTMU4.1D3SMA1X506F1@BL02EPF000016EB>     1    1      1    1   \n",
      "\n",
      "                                              Body dear word  Body form  \\\n",
      "Message-Id                                                                \n",
      "<JBUCO69OTMU4.1D3SMA1X506F1@BL02EPF000016EB>               0          0   \n",
      "\n",
      "                                              Body html  Body button  \\\n",
      "Message-Id                                                             \n",
      "<JBUCO69OTMU4.1D3SMA1X506F1@BL02EPF000016EB>          1            0   \n",
      "\n",
      "                                              Number of Links  \\\n",
      "Message-Id                                                      \n",
      "<JBUCO69OTMU4.1D3SMA1X506F1@BL02EPF000016EB>                3   \n",
      "\n",
      "                                              Body Verify your account  \\\n",
      "Message-Id                                                               \n",
      "<JBUCO69OTMU4.1D3SMA1X506F1@BL02EPF000016EB>                         0   \n",
      "\n",
      "                                              Body no of function words  \\\n",
      "Message-Id                                                                \n",
      "<JBUCO69OTMU4.1D3SMA1X506F1@BL02EPF000016EB>                          3   \n",
      "\n",
      "                                              From eq Return  \n",
      "Message-Id                                                    \n",
      "<JBUCO69OTMU4.1D3SMA1X506F1@BL02EPF000016EB>               1  \n"
     ]
    }
   ],
   "execution_count": 41
  },
  {
   "metadata": {},
   "cell_type": "code",
   "outputs": [],
   "execution_count": null,
   "source": "",
   "id": "2b0f5da82dcf1f73"
  }
 ],
 "metadata": {
  "kernelspec": {
   "display_name": "Python 3",
   "language": "python",
   "name": "python3"
  },
  "language_info": {
   "codemirror_mode": {
    "name": "ipython",
    "version": 2
   },
   "file_extension": ".py",
   "mimetype": "text/x-python",
   "name": "python",
   "nbconvert_exporter": "python",
   "pygments_lexer": "ipython2",
   "version": "2.7.6"
  }
 },
 "nbformat": 4,
 "nbformat_minor": 5
}
